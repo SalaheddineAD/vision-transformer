{
  "cells": [
    {
      "cell_type": "markdown",
      "metadata": {
        "id": "view-in-github",
        "colab_type": "text"
      },
      "source": [
        "<a href=\"https://colab.research.google.com/github/SalaheddineAD/vision-transformer/blob/main/notebook/ViT_mnist.ipynb\" target=\"_parent\"><img src=\"https://colab.research.google.com/assets/colab-badge.svg\" alt=\"Open In Colab\"/></a>"
      ]
    },
    {
      "cell_type": "code",
      "execution_count": 1,
      "metadata": {
        "colab": {
          "base_uri": "https://localhost:8080/"
        },
        "id": "dDMEQya6Gitc",
        "outputId": "2073374e-edca-4be3-ebd6-bec3e766f1c8"
      },
      "outputs": [
        {
          "output_type": "stream",
          "name": "stdout",
          "text": [
            "Collecting dill\n",
            "  Downloading dill-0.3.7-py3-none-any.whl (115 kB)\n",
            "\u001b[?25l     \u001b[90m━━━━━━━━━━━━━━━━━━━━━━━━━━━━━━━━━━━━━━━━\u001b[0m \u001b[32m0.0/115.3 kB\u001b[0m \u001b[31m?\u001b[0m eta \u001b[36m-:--:--\u001b[0m\r\u001b[2K     \u001b[91m━━━━━━━━━━━━━━━━━━━━━━━━━━━━━━━━━━━━━━\u001b[0m\u001b[90m╺\u001b[0m \u001b[32m112.6/115.3 kB\u001b[0m \u001b[31m3.4 MB/s\u001b[0m eta \u001b[36m0:00:01\u001b[0m\r\u001b[2K     \u001b[90m━━━━━━━━━━━━━━━━━━━━━━━━━━━━━━━━━━━━━━━\u001b[0m \u001b[32m115.3/115.3 kB\u001b[0m \u001b[31m2.8 MB/s\u001b[0m eta \u001b[36m0:00:00\u001b[0m\n",
            "\u001b[?25hInstalling collected packages: dill\n",
            "Successfully installed dill-0.3.7\n"
          ]
        }
      ],
      "source": [
        "pip install dill"
      ]
    },
    {
      "cell_type": "code",
      "source": [
        "pip install vit_keras"
      ],
      "metadata": {
        "id": "oY0hlPXOypUv",
        "outputId": "3a1faa71-d75b-4827-c1bf-0f8c7a7e7f62",
        "colab": {
          "base_uri": "https://localhost:8080/"
        }
      },
      "execution_count": 2,
      "outputs": [
        {
          "output_type": "stream",
          "name": "stdout",
          "text": [
            "Collecting vit_keras\n",
            "  Downloading vit_keras-0.1.2-py3-none-any.whl (24 kB)\n",
            "Requirement already satisfied: scipy in /usr/local/lib/python3.10/dist-packages (from vit_keras) (1.11.2)\n",
            "Collecting validators (from vit_keras)\n",
            "  Downloading validators-0.22.0-py3-none-any.whl (26 kB)\n",
            "Requirement already satisfied: numpy<1.28.0,>=1.21.6 in /usr/local/lib/python3.10/dist-packages (from scipy->vit_keras) (1.23.5)\n",
            "Installing collected packages: validators, vit_keras\n",
            "Successfully installed validators-0.22.0 vit_keras-0.1.2\n"
          ]
        }
      ]
    },
    {
      "cell_type": "code",
      "execution_count": 3,
      "metadata": {
        "colab": {
          "base_uri": "https://localhost:8080/"
        },
        "id": "tTO1lYk1Gitm",
        "outputId": "3f8e70e4-2c83-4687-b55c-4d1ab6ffc85a"
      },
      "outputs": [
        {
          "output_type": "stream",
          "name": "stdout",
          "text": [
            "Collecting tensorflow_addons\n",
            "  Downloading tensorflow_addons-0.21.0-cp310-cp310-manylinux_2_17_x86_64.manylinux2014_x86_64.whl (612 kB)\n",
            "\u001b[?25l     \u001b[90m━━━━━━━━━━━━━━━━━━━━━━━━━━━━━━━━━━━━━━━━\u001b[0m \u001b[32m0.0/612.1 kB\u001b[0m \u001b[31m?\u001b[0m eta \u001b[36m-:--:--\u001b[0m\r\u001b[2K     \u001b[91m━━━━━\u001b[0m\u001b[90m╺\u001b[0m\u001b[90m━━━━━━━━━━━━━━━━━━━━━━━━━━━━━━━━━━\u001b[0m \u001b[32m81.9/612.1 kB\u001b[0m \u001b[31m2.5 MB/s\u001b[0m eta \u001b[36m0:00:01\u001b[0m\r\u001b[2K     \u001b[91m━━━━━━━━━━━━━━━━━━━━━━━━━━━━━━━━━━━━━━\u001b[0m\u001b[90m╺\u001b[0m \u001b[32m604.2/612.1 kB\u001b[0m \u001b[31m9.8 MB/s\u001b[0m eta \u001b[36m0:00:01\u001b[0m\r\u001b[2K     \u001b[90m━━━━━━━━━━━━━━━━━━━━━━━━━━━━━━━━━━━━━━━\u001b[0m \u001b[32m612.1/612.1 kB\u001b[0m \u001b[31m8.6 MB/s\u001b[0m eta \u001b[36m0:00:00\u001b[0m\n",
            "\u001b[?25hRequirement already satisfied: packaging in /usr/local/lib/python3.10/dist-packages (from tensorflow_addons) (23.1)\n",
            "Collecting typeguard<3.0.0,>=2.7 (from tensorflow_addons)\n",
            "  Downloading typeguard-2.13.3-py3-none-any.whl (17 kB)\n",
            "Installing collected packages: typeguard, tensorflow_addons\n",
            "Successfully installed tensorflow_addons-0.21.0 typeguard-2.13.3\n"
          ]
        }
      ],
      "source": [
        "pip install tensorflow_addons"
      ]
    },
    {
      "cell_type": "code",
      "execution_count": 4,
      "metadata": {
        "id": "Qz7SxxMqGitn",
        "outputId": "ff4572a6-d91f-4a33-891a-b269fee80757",
        "colab": {
          "base_uri": "https://localhost:8080/"
        }
      },
      "outputs": [
        {
          "output_type": "stream",
          "name": "stderr",
          "text": [
            "/usr/local/lib/python3.10/dist-packages/tensorflow_addons/utils/tfa_eol_msg.py:23: UserWarning: \n",
            "\n",
            "TensorFlow Addons (TFA) has ended development and introduction of new features.\n",
            "TFA has entered a minimal maintenance and release mode until a planned end of life in May 2024.\n",
            "Please modify downstream libraries to take dependencies from other repositories in our TensorFlow community (e.g. Keras, Keras-CV, and Keras-NLP). \n",
            "\n",
            "For more information see: https://github.com/tensorflow/addons/issues/2807 \n",
            "\n",
            "  warnings.warn(\n"
          ]
        }
      ],
      "source": [
        "import numpy as np\n",
        "import matplotlib.pyplot as plt\n",
        "import cv2\n",
        "import random\n",
        "\n",
        "import tensorflow as tf\n",
        "from tensorflow.keras import layers\n",
        "from tensorflow.keras.layers import Layer\n",
        "from tensorflow_addons.metrics import F1Score\n",
        "import tensorflow_addons as tfa\n",
        "from tensorflow.keras.preprocessing.image import img_to_array\n",
        "from tensorflow.keras.metrics import Precision, Recall, AUC\n",
        "from keras.callbacks import EarlyStopping\n",
        "from sklearn.metrics import precision_recall_fscore_support, accuracy_score\n",
        "\n",
        "\n",
        "from vit_keras import vit, utils\n",
        "\n",
        "import time\n",
        "import logging\n",
        "import json\n",
        "import os\n",
        "import dill"
      ]
    },
    {
      "cell_type": "markdown",
      "metadata": {
        "id": "ERtFUHCAGitr"
      },
      "source": [
        "### Enable tensorflow on gpu"
      ]
    },
    {
      "cell_type": "code",
      "execution_count": 5,
      "metadata": {
        "colab": {
          "base_uri": "https://localhost:8080/"
        },
        "id": "eB3iMNLqGitu",
        "outputId": "258332f3-8e45-4bd1-e788-671a5c489329"
      },
      "outputs": [
        {
          "output_type": "stream",
          "name": "stdout",
          "text": [
            "Thu Sep 21 22:14:45 2023       \n",
            "+-----------------------------------------------------------------------------+\n",
            "| NVIDIA-SMI 525.105.17   Driver Version: 525.105.17   CUDA Version: 12.0     |\n",
            "|-------------------------------+----------------------+----------------------+\n",
            "| GPU  Name        Persistence-M| Bus-Id        Disp.A | Volatile Uncorr. ECC |\n",
            "| Fan  Temp  Perf  Pwr:Usage/Cap|         Memory-Usage | GPU-Util  Compute M. |\n",
            "|                               |                      |               MIG M. |\n",
            "|===============================+======================+======================|\n",
            "|   0  Tesla T4            Off  | 00000000:00:04.0 Off |                    0 |\n",
            "| N/A   35C    P8     9W /  70W |      0MiB / 15360MiB |      0%      Default |\n",
            "|                               |                      |                  N/A |\n",
            "+-------------------------------+----------------------+----------------------+\n",
            "                                                                               \n",
            "+-----------------------------------------------------------------------------+\n",
            "| Processes:                                                                  |\n",
            "|  GPU   GI   CI        PID   Type   Process name                  GPU Memory |\n",
            "|        ID   ID                                                   Usage      |\n",
            "|=============================================================================|\n",
            "|  No running processes found                                                 |\n",
            "+-----------------------------------------------------------------------------+\n"
          ]
        }
      ],
      "source": [
        "!nvidia-smi"
      ]
    },
    {
      "cell_type": "code",
      "execution_count": 6,
      "metadata": {
        "colab": {
          "base_uri": "https://localhost:8080/"
        },
        "id": "oBpicbR0Gitv",
        "outputId": "f376326a-9915-4657-9e0e-ccd108d3de6c"
      },
      "outputs": [
        {
          "output_type": "stream",
          "name": "stdout",
          "text": [
            "/bin/bash: line 1: gpu_enabled: command not found\n"
          ]
        }
      ],
      "source": [
        "!gpu_enabled = True"
      ]
    },
    {
      "cell_type": "code",
      "execution_count": 7,
      "metadata": {
        "colab": {
          "base_uri": "https://localhost:8080/"
        },
        "id": "ob3YtveoGitx",
        "outputId": "d6523ec1-c694-4a5b-ed4d-24350cba3ad0"
      },
      "outputs": [
        {
          "output_type": "stream",
          "name": "stdout",
          "text": [
            "[PhysicalDevice(name='/physical_device:GPU:0', device_type='GPU')]\n",
            "2.13.0\n"
          ]
        }
      ],
      "source": [
        "print(tf.config.list_physical_devices('GPU'))\n",
        "print(tf.__version__)\n",
        "# ! pip install tensorflow==2.5.0"
      ]
    },
    {
      "cell_type": "code",
      "execution_count": 8,
      "metadata": {
        "colab": {
          "base_uri": "https://localhost:8080/"
        },
        "id": "_WlIc5GKGity",
        "outputId": "6ddb74e1-9376-4e95-b85f-8b65876d7993"
      },
      "outputs": [
        {
          "output_type": "stream",
          "name": "stdout",
          "text": [
            "Num GPUs Available:  1\n",
            "1 Physical GPUs, 1 Logical GPUs\n"
          ]
        }
      ],
      "source": [
        "import tensorflow as tf\n",
        "\n",
        "# Check the number of available GPUs (optional)\n",
        "print(\"Num GPUs Available: \", len(tf.config.experimental.list_physical_devices('GPU')))\n",
        "\n",
        "# Set the GPU as the default device\n",
        "gpus = tf.config.experimental.list_physical_devices('GPU')\n",
        "if gpus:\n",
        "    try:\n",
        "        # Currently, memory growth needs to be the same across GPUs\n",
        "        for gpu in gpus:\n",
        "            tf.config.experimental.set_memory_growth(gpu, True)\n",
        "        logical_gpus = tf.config.experimental.list_logical_devices('GPU')\n",
        "        print(len(gpus), \"Physical GPUs,\", len(logical_gpus), \"Logical GPUs\")\n",
        "    except RuntimeError as e:\n",
        "        # Memory growth must be set before GPUs have been initialized\n",
        "        print(e)\n",
        "\n",
        "# Now, TensorFlow will use the GPU for all operations by default\n"
      ]
    },
    {
      "cell_type": "code",
      "execution_count": 9,
      "metadata": {
        "id": "0V1H__L8Git0"
      },
      "outputs": [],
      "source": [
        "def dump_json(data, json_file_path):\n",
        "    with open(json_file_path, 'w') as json_file:\n",
        "        json.dump(data, json_file, indent=4)\n",
        "\n",
        "def load_json(json_file_path):\n",
        "    with open(json_file_path, 'r') as json_file:\n",
        "        loaded_data = json.load(json_file)\n",
        "    return loaded_data"
      ]
    },
    {
      "cell_type": "code",
      "execution_count": 10,
      "metadata": {
        "id": "LpsWdb-GGit1"
      },
      "outputs": [],
      "source": [
        "def save_model(model, file_path):\n",
        "    os.makedirs(file_path, exist_ok=True)\n",
        "    model.save(file_path)\n",
        "\n",
        "\n",
        "def load_model(file_path):\n",
        "    loaded_model = tf.keras.models.load_model(file_path)\n",
        "    return loaded_model"
      ]
    },
    {
      "cell_type": "code",
      "execution_count": 11,
      "metadata": {
        "id": "PpXjKKLLGit2"
      },
      "outputs": [],
      "source": [
        "def get_model_performance_metrics(model, images, labels):\n",
        "    # Evaluating the model\n",
        "    loss, accuracy = model.evaluate(images, labels)\n",
        "\n",
        "    # Getting Precision, Recall, and F1 Score\n",
        "    y_pred = model.predict(images)\n",
        "    y_pred_labels = np.argmax(y_pred, axis=1)\n",
        "\n",
        "    precision, recall, f1_score, _ = precision_recall_fscore_support(labels, y_pred_labels, average='micro')\n",
        "\n",
        "    performance = {\n",
        "        \"accuracy\": accuracy,\n",
        "        \"precision\": precision,\n",
        "        \"recall\": recall,\n",
        "        \"f1_score\": f1_score\n",
        "    }\n",
        "    return performance"
      ]
    },
    {
      "cell_type": "code",
      "execution_count": 12,
      "metadata": {
        "id": "iaRweEIXGit3"
      },
      "outputs": [],
      "source": [
        "def save_model_logs(history,history_path):\n",
        "    # saving logs\n",
        "    logging.basicConfig(filename= history_path, level=logging.INFO)\n",
        "\n",
        "    # Log training history\n",
        "    for epoch, (loss, val_loss) in enumerate(zip(history.history['loss'], history.history['val_loss'])):\n",
        "        logging.info(f\"Epoch {epoch + 1}, Loss: {loss}, Val Loss {val_loss}\")\n"
      ]
    },
    {
      "cell_type": "code",
      "execution_count": 13,
      "metadata": {
        "id": "IEJfyA2vGit4"
      },
      "outputs": [],
      "source": [
        "def plot_log_function(history):\n",
        "    plt.figure(figsize=(10,10))\n",
        "    plt.plot(history.history['loss'])\n",
        "    plt.plot(history.history['val_loss'])\n",
        "    plt.title('model loss')\n",
        "    plt.ylabel('loss')\n",
        "    plt.xlabel('epoch')\n",
        "    plt.legend(['train', 'validation'], loc='upper left')\n",
        "    plt.show()"
      ]
    },
    {
      "cell_type": "code",
      "execution_count": 14,
      "metadata": {
        "id": "r4eQlg6TGit5"
      },
      "outputs": [],
      "source": [
        "def random_transform(image):\n",
        "    choice = random.randint(0, 5)\n",
        "\n",
        "    rows, cols, _ = image.shape\n",
        "\n",
        "    if choice == 0: # Translation\n",
        "        tx, ty = random.randint(-20, 20), random.randint(-20, 20)\n",
        "        M = np.float32([[1, 0, tx], [0, 1, ty]])\n",
        "        return cv2.warpAffine(image, M, (cols, rows))\n",
        "\n",
        "    elif choice == 1: # Rotation\n",
        "        angle = random.randint(-30, 30)\n",
        "        M = cv2.getRotationMatrix2D((cols/2, rows/2), angle, 1)\n",
        "        return cv2.warpAffine(image, M, (cols, rows))\n",
        "\n",
        "    elif choice == 2: # Scaling\n",
        "        scale_factor = random.uniform(0.8, 1.2)\n",
        "        new_rows, new_cols = int(rows * scale_factor), int(cols * scale_factor)\n",
        "        return cv2.resize(image, (new_cols, new_rows))\n",
        "\n",
        "    elif choice == 3: # Skewing\n",
        "        pts1 = np.float32([[5,5],[20,5],[5,20]])\n",
        "        pt1 = 5+10*np.random.uniform()-10/2\n",
        "        pt2 = 20+10*np.random.uniform()-10/2\n",
        "        pts2 = np.float32([[pt1,5],[pt2,pt1],[5,pt2]])\n",
        "        M = cv2.getAffineTransform(pts1,pts2)\n",
        "        return cv2.warpAffine(image, M, (cols, rows))\n",
        "\n",
        "    elif choice == 4: # Perspective distortion\n",
        "        pts1 = np.float32([[5,5],[20,5],[5,20],[20,20]])\n",
        "        pts2 = np.float32([[0,0],[20,5],[5,20],[20,20]])\n",
        "        M = cv2.getPerspectiveTransform(pts1,pts2)\n",
        "        return cv2.warpPerspective(image, M, (cols, rows))\n",
        "\n",
        "    else: # Pincushion distortion\n",
        "        distortion = np.float32([1, 1, 0, 0])\n",
        "        camera_matrix = np.eye(3)\n",
        "        return cv2.undistort(image, camera_matrix, distortion)\n"
      ]
    },
    {
      "cell_type": "code",
      "execution_count": 15,
      "metadata": {
        "id": "gAZLIzJRGit7"
      },
      "outputs": [],
      "source": [
        "def get_transformed_test_images(test_images):\n",
        "    transformed_test_images = []\n",
        "    for img in test_images:\n",
        "        transformed_img = random_transform(img)\n",
        "        transformed_test_images.append(transformed_img)\n",
        "\n",
        "    # resizing transformed_test_images into (32, 32)\n",
        "    new_shape = (32, 32)\n",
        "    transformed_test_images = np.array([cv2.resize(img, new_shape).reshape(32, 32, 1) for img in transformed_test_images])\n",
        "\n",
        "    # Checking for shape consistency\n",
        "\n",
        "    good_shape = test_images[0].shape\n",
        "    for i, img in enumerate(transformed_test_images):\n",
        "        if img.shape != good_shape:\n",
        "            print(f\"Inconsistent shape at index {i}: expected {good_shape}, but got {img.shape}\")\n",
        "    return transformed_test_images"
      ]
    },
    {
      "cell_type": "markdown",
      "metadata": {
        "id": "6KizrZqGGit8"
      },
      "source": [
        "# 1 mnist dataset"
      ]
    },
    {
      "cell_type": "code",
      "execution_count": 16,
      "metadata": {
        "id": "KgtBjt-RGit9",
        "outputId": "508b6885-045d-45ed-9c04-5af1db962413",
        "colab": {
          "base_uri": "https://localhost:8080/"
        }
      },
      "outputs": [
        {
          "output_type": "stream",
          "name": "stdout",
          "text": [
            "Downloading data from https://storage.googleapis.com/tensorflow/tf-keras-datasets/mnist.npz\n",
            "11490434/11490434 [==============================] - 1s 0us/step\n"
          ]
        }
      ],
      "source": [
        "# Load MNIST dataset\n",
        "mnist = tf.keras.datasets.mnist\n",
        "seed = 42\n",
        "np.random.seed(seed)\n",
        "\n",
        "# Load the MNIST dataset\n",
        "(train_images, train_labels), (test_images, test_labels) = mnist.load_data()\n",
        "\n",
        "# Shuffle the training data and labels\n",
        "shuffle_index_train = np.random.permutation(len(train_images))\n",
        "train_images = train_images[shuffle_index_train]\n",
        "train_labels = train_labels[shuffle_index_train]\n",
        "\n",
        "# Shuffle the testing data and labels\n",
        "shuffle_index_test = np.random.permutation(len(test_images))\n",
        "test_images = test_images[shuffle_index_test]\n",
        "test_labels = test_labels[shuffle_index_test]"
      ]
    },
    {
      "cell_type": "code",
      "source": [],
      "metadata": {
        "id": "Ayt-GU0rsdSh"
      },
      "execution_count": 16,
      "outputs": []
    },
    {
      "cell_type": "code",
      "execution_count": 17,
      "metadata": {
        "id": "gLyffGqOGit-"
      },
      "outputs": [],
      "source": [
        "# Preprocess images\n",
        "new_shape = (32, 32)\n",
        "train_images = np.array([cv2.resize(img, new_shape) for img in train_images])\n",
        "test_images = np.array([cv2.resize(img, new_shape) for img in test_images])\n",
        "\n",
        "train_images, test_images = train_images / 255.0, test_images / 255.0\n",
        "train_images = train_images[..., tf.newaxis].astype(\"float32\")\n",
        "test_images = test_images[..., tf.newaxis].astype(\"float32\")"
      ]
    },
    {
      "cell_type": "code",
      "execution_count": 18,
      "metadata": {
        "colab": {
          "base_uri": "https://localhost:8080/"
        },
        "id": "U2EKFGVTGiuB",
        "outputId": "af15b325-fc41-4ceb-c2de-73635b06c538"
      },
      "outputs": [
        {
          "output_type": "stream",
          "name": "stdout",
          "text": [
            "train_images size:  (54000, 32, 32, 1)  and val_images size:  (6000, 32, 32, 1)\n",
            "train_labels size:  (54000,)  and val_labels size:  (6000,)\n"
          ]
        }
      ],
      "source": [
        "# creating validation images val_images\n",
        "val_size = int(len(train_labels)*0.10)\n",
        "\n",
        "train_images , val_images= train_images[val_size:], train_images[:val_size]\n",
        "print(\"train_images size: \", train_images.shape, \" and val_images size: \", val_images.shape)\n",
        "\n",
        "train_labels , val_labels= train_labels[val_size:], train_labels[:val_size]\n",
        "print(\"train_labels size: \", train_labels.shape, \" and val_labels size: \", val_labels.shape)"
      ]
    },
    {
      "cell_type": "markdown",
      "metadata": {
        "id": "AJFxwUorGiuC"
      },
      "source": [
        "## 1-1 Vision Transformer"
      ]
    },
    {
      "cell_type": "code",
      "execution_count": 19,
      "metadata": {
        "id": "j-UH-BkQGiuD"
      },
      "outputs": [],
      "source": [
        "# Build the ViT model\n",
        "\n",
        "def create_vit_model(input_shape = (*new_shape, 1),  patch_size = 4, num_heads = 12, projection_dim = 32, num_transformer_layers = 12, mlp_head_units = [64, 32]):\n",
        "\n",
        "    num_patches = (new_shape[0] // patch_size) * (new_shape[1] // patch_size)\n",
        "\n",
        "    inputs = tf.keras.layers.Input(shape=input_shape)\n",
        "    x = tf.keras.layers.Conv2D(3, (3, 3), padding=\"same\")(inputs)  # Convert to 3 channels\n",
        "    x = tf.keras.layers.Rescaling(1.0 / 255)(x)  # Rescale\n",
        "    x = tf.keras.layers.Conv2D(32, (patch_size, patch_size), strides=patch_size)(x)\n",
        "    x = tf.keras.layers.Reshape((num_patches, 32))(x)\n",
        "\n",
        "    for _ in range(num_transformer_layers):\n",
        "        x1 = tf.keras.layers.LayerNormalization(epsilon=1e-6)(x)\n",
        "        attention_output = tf.keras.layers.MultiHeadAttention(\n",
        "            num_heads=num_heads, key_dim=projection_dim, dropout=0.1\n",
        "        )(x1, x1)\n",
        "        x2 = tf.keras.layers.Add()([attention_output, x])\n",
        "        x3 = tf.keras.layers.LayerNormalization(epsilon=1e-6)(x2)\n",
        "        x3 = tf.keras.layers.Conv1D(64, 2, padding=\"same\", activation=\"relu\")(x3)\n",
        "        x3 = tf.keras.layers.Dropout(0.1)(x3)\n",
        "        x3 = tf.keras.layers.Conv1D(32, 2, padding=\"same\")(x3)\n",
        "        x = tf.keras.layers.Add()([x3, x2])\n",
        "\n",
        "    x = tf.keras.layers.GlobalAveragePooling1D()(x)\n",
        "    for dim in mlp_head_units:\n",
        "        x = tf.keras.layers.Dense(dim, activation=\"relu\")(x)\n",
        "        x = tf.keras.layers.Dropout(0.1)(x)\n",
        "    outputs = tf.keras.layers.Dense(10, activation=\"softmax\")(x)\n",
        "\n",
        "\n",
        "    model = tf.keras.Model(inputs, outputs)\n",
        "\n",
        "    return model"
      ]
    },
    {
      "cell_type": "code",
      "source": [
        "from tensorflow.keras.layers import Input, Concatenate\n",
        "from tensorflow.keras.models import Model\n",
        "from vit_keras import vit\n",
        "def build_vit_model(input_shape, num_classes=3):\n",
        "\n",
        "  input_layer = Input(input_shape)\n",
        "  replicated_channels = Concatenate(axis=-1)([input_layer] * 3)\n",
        "\n",
        "  vit_model = vit.vit_b32(\n",
        "      image_size=input_shape[0],\n",
        "      activation='softmax',\n",
        "      pretrained=True,\n",
        "      include_top=True,\n",
        "      pretrained_top=False,\n",
        "      classes=num_classes)(replicated_channels)\n",
        "\n",
        "  return Model(inputs=input_layer, outputs=vit_model)"
      ],
      "metadata": {
        "id": "VvKldWcByBtw"
      },
      "execution_count": 20,
      "outputs": []
    },
    {
      "cell_type": "code",
      "execution_count": 21,
      "metadata": {
        "id": "vS-9t3jJGiuF",
        "outputId": "2de96dbb-9670-4128-d676-142d03780d48",
        "colab": {
          "base_uri": "https://localhost:8080/"
        }
      },
      "outputs": [
        {
          "output_type": "stream",
          "name": "stdout",
          "text": [
            "Downloading data from https://github.com/faustomorales/vit-keras/releases/download/dl/ViT-B_32_imagenet21k+imagenet2012.npz\n",
            "353253686/353253686 [==============================] - 7s 0us/step\n"
          ]
        },
        {
          "output_type": "stream",
          "name": "stderr",
          "text": [
            "/usr/local/lib/python3.10/dist-packages/vit_keras/utils.py:81: UserWarning: Resizing position embeddings from 12, 12 to 1, 1\n",
            "  warnings.warn(\n"
          ]
        }
      ],
      "source": [
        "# model = create_vit_model(input_shape = (*new_shape, 1),  patch_size = 4, num_heads = 2, projection_dim = 32, num_transformer_layers = 32, mlp_head_units = [64, 32])\n",
        "model = build_vit_model((32,32,1), num_classes = 10)"
      ]
    },
    {
      "cell_type": "code",
      "execution_count": 28,
      "metadata": {
        "id": "HZ5uD8dVGiuG"
      },
      "outputs": [],
      "source": [
        "hyperparameters={\n",
        "    \"batch_size\": 256,\n",
        "    \"epochs\": 10,\n",
        "    \"optimizer\":\"adam\",\n",
        "    'early_stopping_patience':10,\n",
        "    \"learning_rate\":0.001,\n",
        "    \"weight_decay\" : 0.0001\n",
        "}\n",
        "\n",
        "def train_individual_model(model, train_images, train_labels, val_data, batch_size=hyperparameters['batch_size'], epochs=hyperparameters['epochs'], patience =hyperparameters['early_stopping_patience'], learning_rate= hyperparameters[\"learning_rate\"], weight_decay = hyperparameters[\"weight_decay\"] ):\n",
        "\n",
        "    optimizer = tf.keras.optimizers.Adam(learning_rate=learning_rate)\n",
        "    optimizer = tfa.optimizers.AdamW(\n",
        "        learning_rate=learning_rate, weight_decay=weight_decay\n",
        "    )\n",
        "    model.compile(optimizer=optimizer,\n",
        "\n",
        "                  loss='sparse_categorical_crossentropy',\n",
        "\n",
        "                  metrics=['accuracy'])\n",
        "    early_stopping = tf.keras.callbacks.EarlyStopping(monitor='loss', patience= patience, verbose=1, restore_best_weights=True)\n",
        "\n",
        "    start_time = time.time()\n",
        "    history = model.fit(train_images,train_labels, validation_data=val_data, epochs=epochs, batch_size=batch_size, callbacks=[early_stopping])\n",
        "    end_time = time.time()\n",
        "    print(f\"Training time: {end_time - start_time:.2f} seconds\")\n",
        "\n",
        "    # Using history to print training metrics\n",
        "    print(\"\\nTraining Metrics:\")\n",
        "    print(f\"Loss: {history.history['loss'][-1]}\")\n",
        "    print(f\"Accuracy: {history.history['accuracy'][-1]}\")\n",
        "\n",
        "    # Using history to print validation metrics\n",
        "    print(\"\\nValidation Metrics:\")\n",
        "    print(f\"Loss: {history.history['val_loss'][-1]}\")\n",
        "    print(f\"Accuracy: {history.history['val_accuracy'][-1]}\")\n",
        "\n",
        "    return history"
      ]
    },
    {
      "cell_type": "code",
      "source": [
        "history= train_individual_model(model, train_images,train_labels, val_data = (val_images, val_labels), batch_size=hyperparameters['batch_size'], epochs=hyperparameters['epochs'], patience =hyperparameters['early_stopping_patience'])"
      ],
      "metadata": {
        "colab": {
          "base_uri": "https://localhost:8080/"
        },
        "id": "HhUU6HmoM6O6",
        "outputId": "468d79bc-ed91-44f0-e3a6-3f70db4a9a64"
      },
      "execution_count": 29,
      "outputs": [
        {
          "output_type": "stream",
          "name": "stdout",
          "text": [
            "Epoch 1/10\n",
            "211/211 [==============================] - 47s 146ms/step - loss: 0.0108 - accuracy: 0.9966 - val_loss: 0.0769 - val_accuracy: 0.9847\n",
            "Epoch 2/10\n",
            "211/211 [==============================] - 28s 134ms/step - loss: 0.0126 - accuracy: 0.9959 - val_loss: 0.0770 - val_accuracy: 0.9823\n",
            "Epoch 3/10\n",
            "211/211 [==============================] - 29s 136ms/step - loss: 0.0089 - accuracy: 0.9971 - val_loss: 0.0927 - val_accuracy: 0.9782\n",
            "Epoch 4/10\n",
            "211/211 [==============================] - 29s 136ms/step - loss: 0.0110 - accuracy: 0.9968 - val_loss: 0.0698 - val_accuracy: 0.9840\n",
            "Epoch 5/10\n",
            "211/211 [==============================] - 29s 138ms/step - loss: 0.0089 - accuracy: 0.9974 - val_loss: 0.0626 - val_accuracy: 0.9853\n",
            "Epoch 6/10\n",
            "211/211 [==============================] - 29s 138ms/step - loss: 0.0116 - accuracy: 0.9962 - val_loss: 0.0620 - val_accuracy: 0.9860\n",
            "Epoch 7/10\n",
            "211/211 [==============================] - 29s 139ms/step - loss: 0.0105 - accuracy: 0.9965 - val_loss: 0.0687 - val_accuracy: 0.9840\n",
            "Epoch 8/10\n",
            "211/211 [==============================] - 29s 139ms/step - loss: 0.0100 - accuracy: 0.9969 - val_loss: 0.0734 - val_accuracy: 0.9837\n",
            "Epoch 9/10\n",
            "211/211 [==============================] - 30s 140ms/step - loss: 0.0115 - accuracy: 0.9964 - val_loss: 0.0753 - val_accuracy: 0.9827\n",
            "Epoch 10/10\n",
            "211/211 [==============================] - 30s 140ms/step - loss: 0.0102 - accuracy: 0.9966 - val_loss: 0.0702 - val_accuracy: 0.9848\n",
            "Training time: 308.96 seconds\n",
            "\n",
            "Training Metrics:\n",
            "Loss: 0.010192756541073322\n",
            "Accuracy: 0.9966296553611755\n",
            "\n",
            "Validation Metrics:\n",
            "Loss: 0.07019025832414627\n",
            "Accuracy: 0.9848333597183228\n"
          ]
        }
      ]
    },
    {
      "cell_type": "code",
      "source": [
        "from google.colab import drive\n",
        "drive.mount('/content/drive')"
      ],
      "metadata": {
        "id": "_guB22SEXMK8",
        "outputId": "e536e663-9438-4dce-adf9-101cff86dad6",
        "colab": {
          "base_uri": "https://localhost:8080/"
        }
      },
      "execution_count": 25,
      "outputs": [
        {
          "output_type": "stream",
          "name": "stdout",
          "text": [
            "Mounted at /content/drive\n"
          ]
        }
      ]
    },
    {
      "cell_type": "code",
      "execution_count": 30,
      "metadata": {
        "id": "99wgN40YGiuJ"
      },
      "outputs": [],
      "source": [
        "#saving model\n",
        "path = os.path.join(\"/content/drive/My Drive/ML_research/experiments/\",'vit_32_fine_tuned_mnist', 'model')\n",
        "save_model(model, path)"
      ]
    },
    {
      "cell_type": "code",
      "source": [
        "os.path.exists(os.path.join(\"/content/drive/My Drive/ML_research/experiments/\",'vit_32_fine_tuned_mnist', 'model'))"
      ],
      "metadata": {
        "id": "Ukb4fPP0ahKC",
        "outputId": "5b63e5cd-8b64-4127-a07c-f61c38462e66",
        "colab": {
          "base_uri": "https://localhost:8080/"
        }
      },
      "execution_count": null,
      "outputs": [
        {
          "output_type": "execute_result",
          "data": {
            "text/plain": [
              "True"
            ]
          },
          "metadata": {},
          "execution_count": 37
        }
      ]
    },
    {
      "cell_type": "code",
      "source": [
        "#checking the performance on taining_data\n",
        "plot_log_function(history)"
      ],
      "metadata": {
        "id": "dmviIkcq87FG",
        "outputId": "dc2c5696-7a4e-4e06-f364-c21ff16ed3f4",
        "colab": {
          "base_uri": "https://localhost:8080/",
          "height": 872
        }
      },
      "execution_count": 31,
      "outputs": [
        {
          "output_type": "display_data",
          "data": {
            "text/plain": [
              "<Figure size 1000x1000 with 1 Axes>"
            ],
            "image/png": "[encoded data removed]"
          },
          "metadata": {}
        }
      ]
    },
    {
      "cell_type": "code",
      "execution_count": 32,
      "metadata": {
        "id": "opFeAG7QGiuK"
      },
      "outputs": [],
      "source": [
        "history_path = os.path.join(\"/content/drive/My Drive/ML_research/experiments/vit_32_fine_tuned_mnist\", 'history.log')\n",
        "save_model_logs(history,history_path)"
      ]
    },
    {
      "cell_type": "code",
      "execution_count": 33,
      "metadata": {
        "id": "fcow7MVOGiuL"
      },
      "outputs": [],
      "source": [
        "path = os.path.join(\"/content/drive/My Drive/ML_research/experiments/\",'vit_32_fine_tuned_mnist', 'model')\n",
        "\n",
        "model2 = load_model(path)"
      ]
    },
    {
      "cell_type": "code",
      "execution_count": 34,
      "metadata": {
        "id": "X1TvBzL3GiuM",
        "outputId": "d01fbd74-0aaa-4aae-95e7-3c7839374c67",
        "colab": {
          "base_uri": "https://localhost:8080/"
        }
      },
      "outputs": [
        {
          "output_type": "stream",
          "name": "stdout",
          "text": [
            "{'model_name': 'ViT-32 pretrained', 'hyperparameters': {'batch_size': 256, 'epochs': 10, 'optimizer': 'adam', 'early_stopping_patience': 10, 'learning_rate': 0.001, 'weight_decay': 0.0001}, 'model_architecture': {'class_name': 'Functional', 'config': {'name': 'model', 'trainable': True, 'layers': [{'module': 'keras.layers', 'class_name': 'InputLayer', 'config': {'batch_input_shape': [None, 32, 32, 1], 'dtype': 'float32', 'sparse': False, 'ragged': False, 'name': 'input_1'}, 'registered_name': None, 'name': 'input_1', 'inbound_nodes': []}, {'module': 'keras.layers', 'class_name': 'Concatenate', 'config': {'name': 'concatenate', 'trainable': True, 'dtype': 'float32', 'axis': -1}, 'registered_name': None, 'build_config': {'input_shape': [[None, 32, 32, 1], [None, 32, 32, 1], [None, 32, 32, 1]]}, 'name': 'concatenate', 'inbound_nodes': [[['input_1', 0, 0, {}], ['input_1', 0, 0, {}], ['input_1', 0, 0, {}]]]}, {'module': 'keras.src.engine.functional', 'class_name': 'Functional', 'config': {'name': 'vit-b32', 'trainable': True, 'layers': [{'module': 'keras.layers', 'class_name': 'InputLayer', 'config': {'batch_input_shape': [None, 32, 32, 3], 'dtype': 'float32', 'sparse': False, 'ragged': False, 'name': 'input_2'}, 'registered_name': None, 'name': 'input_2', 'inbound_nodes': []}, {'module': 'keras.layers', 'class_name': 'Conv2D', 'config': {'name': 'embedding', 'trainable': True, 'dtype': 'float32', 'filters': 768, 'kernel_size': [32, 32], 'strides': [32, 32], 'padding': 'valid', 'data_format': 'channels_last', 'dilation_rate': [1, 1], 'groups': 1, 'activation': 'linear', 'use_bias': True, 'kernel_initializer': {'module': 'keras.initializers', 'class_name': 'GlorotUniform', 'config': {'seed': None}, 'registered_name': None}, 'bias_initializer': {'module': 'keras.initializers', 'class_name': 'Zeros', 'config': {}, 'registered_name': None}, 'kernel_regularizer': None, 'bias_regularizer': None, 'activity_regularizer': None, 'kernel_constraint': None, 'bias_constraint': None}, 'registered_name': None, 'build_config': {'input_shape': [None, 32, 32, 3]}, 'name': 'embedding', 'inbound_nodes': [[['input_2', 0, 0, {}]]]}, {'module': 'keras.layers', 'class_name': 'Reshape', 'config': {'name': 'reshape', 'trainable': True, 'dtype': 'float32', 'target_shape': [1, 768]}, 'registered_name': None, 'build_config': {'input_shape': [None, 1, 1, 768]}, 'name': 'reshape', 'inbound_nodes': [[['embedding', 0, 0, {}]]]}, {'module': 'vit_keras.layers', 'class_name': 'ClassToken', 'config': {'name': 'class_token', 'trainable': True, 'dtype': 'float32'}, 'registered_name': 'Custom>ClassToken', 'build_config': {'input_shape': [None, 1, 768]}, 'name': 'class_token', 'inbound_nodes': [[['reshape', 0, 0, {}]]]}, {'module': 'vit_keras.layers', 'class_name': 'AddPositionEmbs', 'config': {'name': 'Transformer/posembed_input', 'trainable': True, 'dtype': 'float32'}, 'registered_name': 'Custom>AddPositionEmbs', 'build_config': {'input_shape': [None, 2, 768]}, 'name': 'Transformer/posembed_input', 'inbound_nodes': [[['class_token', 0, 0, {}]]]}, {'module': 'vit_keras.layers', 'class_name': 'TransformerBlock', 'config': {'name': 'Transformer/encoderblock_0', 'trainable': True, 'dtype': 'float32', 'num_heads': 12, 'mlp_dim': 3072, 'dropout': 0.1}, 'registered_name': 'Custom>TransformerBlock', 'build_config': {'input_shape': [None, 2, 768]}, 'name': 'Transformer/encoderblock_0', 'inbound_nodes': [[['Transformer/posembed_input', 0, 0, {}]]]}, {'module': 'vit_keras.layers', 'class_name': 'TransformerBlock', 'config': {'name': 'Transformer/encoderblock_1', 'trainable': True, 'dtype': 'float32', 'num_heads': 12, 'mlp_dim': 3072, 'dropout': 0.1}, 'registered_name': 'Custom>TransformerBlock', 'build_config': {'input_shape': [None, 2, 768]}, 'name': 'Transformer/encoderblock_1', 'inbound_nodes': [[['Transformer/encoderblock_0', 0, 0, {}]]]}, {'module': 'vit_keras.layers', 'class_name': 'TransformerBlock', 'config': {'name': 'Transformer/encoderblock_2', 'trainable': True, 'dtype': 'float32', 'num_heads': 12, 'mlp_dim': 3072, 'dropout': 0.1}, 'registered_name': 'Custom>TransformerBlock', 'build_config': {'input_shape': [None, 2, 768]}, 'name': 'Transformer/encoderblock_2', 'inbound_nodes': [[['Transformer/encoderblock_1', 0, 0, {}]]]}, {'module': 'vit_keras.layers', 'class_name': 'TransformerBlock', 'config': {'name': 'Transformer/encoderblock_3', 'trainable': True, 'dtype': 'float32', 'num_heads': 12, 'mlp_dim': 3072, 'dropout': 0.1}, 'registered_name': 'Custom>TransformerBlock', 'build_config': {'input_shape': [None, 2, 768]}, 'name': 'Transformer/encoderblock_3', 'inbound_nodes': [[['Transformer/encoderblock_2', 0, 0, {}]]]}, {'module': 'vit_keras.layers', 'class_name': 'TransformerBlock', 'config': {'name': 'Transformer/encoderblock_4', 'trainable': True, 'dtype': 'float32', 'num_heads': 12, 'mlp_dim': 3072, 'dropout': 0.1}, 'registered_name': 'Custom>TransformerBlock', 'build_config': {'input_shape': [None, 2, 768]}, 'name': 'Transformer/encoderblock_4', 'inbound_nodes': [[['Transformer/encoderblock_3', 0, 0, {}]]]}, {'module': 'vit_keras.layers', 'class_name': 'TransformerBlock', 'config': {'name': 'Transformer/encoderblock_5', 'trainable': True, 'dtype': 'float32', 'num_heads': 12, 'mlp_dim': 3072, 'dropout': 0.1}, 'registered_name': 'Custom>TransformerBlock', 'build_config': {'input_shape': [None, 2, 768]}, 'name': 'Transformer/encoderblock_5', 'inbound_nodes': [[['Transformer/encoderblock_4', 0, 0, {}]]]}, {'module': 'vit_keras.layers', 'class_name': 'TransformerBlock', 'config': {'name': 'Transformer/encoderblock_6', 'trainable': True, 'dtype': 'float32', 'num_heads': 12, 'mlp_dim': 3072, 'dropout': 0.1}, 'registered_name': 'Custom>TransformerBlock', 'build_config': {'input_shape': [None, 2, 768]}, 'name': 'Transformer/encoderblock_6', 'inbound_nodes': [[['Transformer/encoderblock_5', 0, 0, {}]]]}, {'module': 'vit_keras.layers', 'class_name': 'TransformerBlock', 'config': {'name': 'Transformer/encoderblock_7', 'trainable': True, 'dtype': 'float32', 'num_heads': 12, 'mlp_dim': 3072, 'dropout': 0.1}, 'registered_name': 'Custom>TransformerBlock', 'build_config': {'input_shape': [None, 2, 768]}, 'name': 'Transformer/encoderblock_7', 'inbound_nodes': [[['Transformer/encoderblock_6', 0, 0, {}]]]}, {'module': 'vit_keras.layers', 'class_name': 'TransformerBlock', 'config': {'name': 'Transformer/encoderblock_8', 'trainable': True, 'dtype': 'float32', 'num_heads': 12, 'mlp_dim': 3072, 'dropout': 0.1}, 'registered_name': 'Custom>TransformerBlock', 'build_config': {'input_shape': [None, 2, 768]}, 'name': 'Transformer/encoderblock_8', 'inbound_nodes': [[['Transformer/encoderblock_7', 0, 0, {}]]]}, {'module': 'vit_keras.layers', 'class_name': 'TransformerBlock', 'config': {'name': 'Transformer/encoderblock_9', 'trainable': True, 'dtype': 'float32', 'num_heads': 12, 'mlp_dim': 3072, 'dropout': 0.1}, 'registered_name': 'Custom>TransformerBlock', 'build_config': {'input_shape': [None, 2, 768]}, 'name': 'Transformer/encoderblock_9', 'inbound_nodes': [[['Transformer/encoderblock_8', 0, 0, {}]]]}, {'module': 'vit_keras.layers', 'class_name': 'TransformerBlock', 'config': {'name': 'Transformer/encoderblock_10', 'trainable': True, 'dtype': 'float32', 'num_heads': 12, 'mlp_dim': 3072, 'dropout': 0.1}, 'registered_name': 'Custom>TransformerBlock', 'build_config': {'input_shape': [None, 2, 768]}, 'name': 'Transformer/encoderblock_10', 'inbound_nodes': [[['Transformer/encoderblock_9', 0, 0, {}]]]}, {'module': 'vit_keras.layers', 'class_name': 'TransformerBlock', 'config': {'name': 'Transformer/encoderblock_11', 'trainable': True, 'dtype': 'float32', 'num_heads': 12, 'mlp_dim': 3072, 'dropout': 0.1}, 'registered_name': 'Custom>TransformerBlock', 'build_config': {'input_shape': [None, 2, 768]}, 'name': 'Transformer/encoderblock_11', 'inbound_nodes': [[['Transformer/encoderblock_10', 0, 0, {}]]]}, {'module': 'keras.layers', 'class_name': 'LayerNormalization', 'config': {'name': 'Transformer/encoder_norm', 'trainable': True, 'dtype': 'float32', 'axis': [2], 'epsilon': 1e-06, 'center': True, 'scale': True, 'beta_initializer': {'module': 'keras.initializers', 'class_name': 'Zeros', 'config': {}, 'registered_name': None}, 'gamma_initializer': {'module': 'keras.initializers', 'class_name': 'Ones', 'config': {}, 'registered_name': None}, 'beta_regularizer': None, 'gamma_regularizer': None, 'beta_constraint': None, 'gamma_constraint': None}, 'registered_name': None, 'build_config': {'input_shape': [None, 2, 768]}, 'name': 'Transformer/encoder_norm', 'inbound_nodes': [[['Transformer/encoderblock_11', 0, 0, {}]]]}, {'module': 'keras.layers', 'class_name': 'Lambda', 'config': {'name': 'ExtractToken', 'trainable': True, 'dtype': 'float32', 'function': ['4wEAAAAAAAAAAAAAAAEAAAADAAAAUwAAAHMQAAAAfABkAGQAhQJkAWYCGQBTACkCTukAAAAAqQCp\\nAdoBdnICAAAAcgIAAAD6OC91c3IvbG9jYWwvbGliL3B5dGhvbjMuMTAvZGlzdC1wYWNrYWdlcy92\\naXRfa2VyYXMvdml0LnB52gg8bGFtYmRhPnoAAABzAgAAABAA\\n', None, None], 'function_type': 'lambda', 'module': 'vit_keras.vit', 'output_shape': None, 'output_shape_type': 'raw', 'output_shape_module': None, 'arguments': {}}, 'registered_name': None, 'build_config': {'input_shape': [None, 2, 768]}, 'name': 'ExtractToken', 'inbound_nodes': [[['Transformer/encoder_norm', 0, 0, {}]]]}, {'module': 'keras.layers', 'class_name': 'Dense', 'config': {'name': 'head', 'trainable': True, 'dtype': 'float32', 'units': 10, 'activation': 'softmax', 'use_bias': True, 'kernel_initializer': {'module': 'keras.initializers', 'class_name': 'GlorotUniform', 'config': {'seed': None}, 'registered_name': None}, 'bias_initializer': {'module': 'keras.initializers', 'class_name': 'Zeros', 'config': {}, 'registered_name': None}, 'kernel_regularizer': None, 'bias_regularizer': None, 'activity_regularizer': None, 'kernel_constraint': None, 'bias_constraint': None}, 'registered_name': None, 'build_config': {'input_shape': [None, 768]}, 'name': 'head', 'inbound_nodes': [[['ExtractToken', 0, 0, {}]]]}], 'input_layers': [['input_2', 0, 0]], 'output_layers': [['head', 0, 0]]}, 'registered_name': 'Functional', 'build_config': {'input_shape': [None, 32, 32, 3]}, 'name': 'vit-b32', 'inbound_nodes': [[['concatenate', 0, 0, {}]]]}], 'input_layers': [['input_1', 0, 0]], 'output_layers': [['vit-b32', 1, 0]]}, 'keras_version': '2.13.1', 'backend': 'tensorflow'}}\n"
          ]
        }
      ],
      "source": [
        "# saving model architecture and hypermarameters\n",
        "model_info = {\n",
        "    \"model_name\": \"ViT-32 pretrained\"\n",
        "}\n",
        "model_info[\"hyperparameters\"] = hyperparameters\n",
        "model_info[\"model_architecture\"] = model.to_json()\n",
        "model_info[\"model_architecture\"]  = json.loads(model_info[\"model_architecture\"] )\n",
        "\n",
        "path = os.path.join(\"/content/drive/My Drive/ML_research/experiments/\",'vit_32_fine_tuned_mnist', 'model_architecture.json')\n",
        "dump_json(model_info, path )\n",
        "print(model_info)"
      ]
    },
    {
      "cell_type": "code",
      "source": [
        "load_json(os.path.join(\"/content/drive/My Drive/ML_research/experiments/\",'vit_32_fine_tuned_mnist', 'model_architecture.json'))\n"
      ],
      "metadata": {
        "id": "17QbTBFicsXl",
        "outputId": "760285ac-5969-4c0e-ac14-58f59cb313ab",
        "colab": {
          "base_uri": "https://localhost:8080/"
        }
      },
      "execution_count": 35,
      "outputs": [
        {
          "output_type": "execute_result",
          "data": {
            "text/plain": [
              "{'model_name': 'ViT-32 pretrained',\n",
              " 'hyperparameters': {'batch_size': 256,\n",
              "  'epochs': 10,\n",
              "  'optimizer': 'adam',\n",
              "  'early_stopping_patience': 10,\n",
              "  'learning_rate': 0.001,\n",
              "  'weight_decay': 0.0001},\n",
              " 'model_architecture': {'class_name': 'Functional',\n",
              "  'config': {'name': 'model',\n",
              "   'trainable': True,\n",
              "   'layers': [{'module': 'keras.layers',\n",
              "     'class_name': 'InputLayer',\n",
              "     'config': {'batch_input_shape': [None, 32, 32, 1],\n",
              "      'dtype': 'float32',\n",
              "      'sparse': False,\n",
              "      'ragged': False,\n",
              "      'name': 'input_1'},\n",
              "     'registered_name': None,\n",
              "     'name': 'input_1',\n",
              "     'inbound_nodes': []},\n",
              "    {'module': 'keras.layers',\n",
              "     'class_name': 'Concatenate',\n",
              "     'config': {'name': 'concatenate',\n",
              "      'trainable': True,\n",
              "      'dtype': 'float32',\n",
              "      'axis': -1},\n",
              "     'registered_name': None,\n",
              "     'build_config': {'input_shape': [[None, 32, 32, 1],\n",
              "       [None, 32, 32, 1],\n",
              "       [None, 32, 32, 1]]},\n",
              "     'name': 'concatenate',\n",
              "     'inbound_nodes': [[['input_1', 0, 0, {}],\n",
              "       ['input_1', 0, 0, {}],\n",
              "       ['input_1', 0, 0, {}]]]},\n",
              "    {'module': 'keras.src.engine.functional',\n",
              "     'class_name': 'Functional',\n",
              "     'config': {'name': 'vit-b32',\n",
              "      'trainable': True,\n",
              "      'layers': [{'module': 'keras.layers',\n",
              "        'class_name': 'InputLayer',\n",
              "        'config': {'batch_input_shape': [None, 32, 32, 3],\n",
              "         'dtype': 'float32',\n",
              "         'sparse': False,\n",
              "         'ragged': False,\n",
              "         'name': 'input_2'},\n",
              "        'registered_name': None,\n",
              "        'name': 'input_2',\n",
              "        'inbound_nodes': []},\n",
              "       {'module': 'keras.layers',\n",
              "        'class_name': 'Conv2D',\n",
              "        'config': {'name': 'embedding',\n",
              "         'trainable': True,\n",
              "         'dtype': 'float32',\n",
              "         'filters': 768,\n",
              "         'kernel_size': [32, 32],\n",
              "         'strides': [32, 32],\n",
              "         'padding': 'valid',\n",
              "         'data_format': 'channels_last',\n",
              "         'dilation_rate': [1, 1],\n",
              "         'groups': 1,\n",
              "         'activation': 'linear',\n",
              "         'use_bias': True,\n",
              "         'kernel_initializer': {'module': 'keras.initializers',\n",
              "          'class_name': 'GlorotUniform',\n",
              "          'config': {'seed': None},\n",
              "          'registered_name': None},\n",
              "         'bias_initializer': {'module': 'keras.initializers',\n",
              "          'class_name': 'Zeros',\n",
              "          'config': {},\n",
              "          'registered_name': None},\n",
              "         'kernel_regularizer': None,\n",
              "         'bias_regularizer': None,\n",
              "         'activity_regularizer': None,\n",
              "         'kernel_constraint': None,\n",
              "         'bias_constraint': None},\n",
              "        'registered_name': None,\n",
              "        'build_config': {'input_shape': [None, 32, 32, 3]},\n",
              "        'name': 'embedding',\n",
              "        'inbound_nodes': [[['input_2', 0, 0, {}]]]},\n",
              "       {'module': 'keras.layers',\n",
              "        'class_name': 'Reshape',\n",
              "        'config': {'name': 'reshape',\n",
              "         'trainable': True,\n",
              "         'dtype': 'float32',\n",
              "         'target_shape': [1, 768]},\n",
              "        'registered_name': None,\n",
              "        'build_config': {'input_shape': [None, 1, 1, 768]},\n",
              "        'name': 'reshape',\n",
              "        'inbound_nodes': [[['embedding', 0, 0, {}]]]},\n",
              "       {'module': 'vit_keras.layers',\n",
              "        'class_name': 'ClassToken',\n",
              "        'config': {'name': 'class_token',\n",
              "         'trainable': True,\n",
              "         'dtype': 'float32'},\n",
              "        'registered_name': 'Custom>ClassToken',\n",
              "        'build_config': {'input_shape': [None, 1, 768]},\n",
              "        'name': 'class_token',\n",
              "        'inbound_nodes': [[['reshape', 0, 0, {}]]]},\n",
              "       {'module': 'vit_keras.layers',\n",
              "        'class_name': 'AddPositionEmbs',\n",
              "        'config': {'name': 'Transformer/posembed_input',\n",
              "         'trainable': True,\n",
              "         'dtype': 'float32'},\n",
              "        'registered_name': 'Custom>AddPositionEmbs',\n",
              "        'build_config': {'input_shape': [None, 2, 768]},\n",
              "        'name': 'Transformer/posembed_input',\n",
              "        'inbound_nodes': [[['class_token', 0, 0, {}]]]},\n",
              "       {'module': 'vit_keras.layers',\n",
              "        'class_name': 'TransformerBlock',\n",
              "        'config': {'name': 'Transformer/encoderblock_0',\n",
              "         'trainable': True,\n",
              "         'dtype': 'float32',\n",
              "         'num_heads': 12,\n",
              "         'mlp_dim': 3072,\n",
              "         'dropout': 0.1},\n",
              "        'registered_name': 'Custom>TransformerBlock',\n",
              "        'build_config': {'input_shape': [None, 2, 768]},\n",
              "        'name': 'Transformer/encoderblock_0',\n",
              "        'inbound_nodes': [[['Transformer/posembed_input', 0, 0, {}]]]},\n",
              "       {'module': 'vit_keras.layers',\n",
              "        'class_name': 'TransformerBlock',\n",
              "        'config': {'name': 'Transformer/encoderblock_1',\n",
              "         'trainable': True,\n",
              "         'dtype': 'float32',\n",
              "         'num_heads': 12,\n",
              "         'mlp_dim': 3072,\n",
              "         'dropout': 0.1},\n",
              "        'registered_name': 'Custom>TransformerBlock',\n",
              "        'build_config': {'input_shape': [None, 2, 768]},\n",
              "        'name': 'Transformer/encoderblock_1',\n",
              "        'inbound_nodes': [[['Transformer/encoderblock_0', 0, 0, {}]]]},\n",
              "       {'module': 'vit_keras.layers',\n",
              "        'class_name': 'TransformerBlock',\n",
              "        'config': {'name': 'Transformer/encoderblock_2',\n",
              "         'trainable': True,\n",
              "         'dtype': 'float32',\n",
              "         'num_heads': 12,\n",
              "         'mlp_dim': 3072,\n",
              "         'dropout': 0.1},\n",
              "        'registered_name': 'Custom>TransformerBlock',\n",
              "        'build_config': {'input_shape': [None, 2, 768]},\n",
              "        'name': 'Transformer/encoderblock_2',\n",
              "        'inbound_nodes': [[['Transformer/encoderblock_1', 0, 0, {}]]]},\n",
              "       {'module': 'vit_keras.layers',\n",
              "        'class_name': 'TransformerBlock',\n",
              "        'config': {'name': 'Transformer/encoderblock_3',\n",
              "         'trainable': True,\n",
              "         'dtype': 'float32',\n",
              "         'num_heads': 12,\n",
              "         'mlp_dim': 3072,\n",
              "         'dropout': 0.1},\n",
              "        'registered_name': 'Custom>TransformerBlock',\n",
              "        'build_config': {'input_shape': [None, 2, 768]},\n",
              "        'name': 'Transformer/encoderblock_3',\n",
              "        'inbound_nodes': [[['Transformer/encoderblock_2', 0, 0, {}]]]},\n",
              "       {'module': 'vit_keras.layers',\n",
              "        'class_name': 'TransformerBlock',\n",
              "        'config': {'name': 'Transformer/encoderblock_4',\n",
              "         'trainable': True,\n",
              "         'dtype': 'float32',\n",
              "         'num_heads': 12,\n",
              "         'mlp_dim': 3072,\n",
              "         'dropout': 0.1},\n",
              "        'registered_name': 'Custom>TransformerBlock',\n",
              "        'build_config': {'input_shape': [None, 2, 768]},\n",
              "        'name': 'Transformer/encoderblock_4',\n",
              "        'inbound_nodes': [[['Transformer/encoderblock_3', 0, 0, {}]]]},\n",
              "       {'module': 'vit_keras.layers',\n",
              "        'class_name': 'TransformerBlock',\n",
              "        'config': {'name': 'Transformer/encoderblock_5',\n",
              "         'trainable': True,\n",
              "         'dtype': 'float32',\n",
              "         'num_heads': 12,\n",
              "         'mlp_dim': 3072,\n",
              "         'dropout': 0.1},\n",
              "        'registered_name': 'Custom>TransformerBlock',\n",
              "        'build_config': {'input_shape': [None, 2, 768]},\n",
              "        'name': 'Transformer/encoderblock_5',\n",
              "        'inbound_nodes': [[['Transformer/encoderblock_4', 0, 0, {}]]]},\n",
              "       {'module': 'vit_keras.layers',\n",
              "        'class_name': 'TransformerBlock',\n",
              "        'config': {'name': 'Transformer/encoderblock_6',\n",
              "         'trainable': True,\n",
              "         'dtype': 'float32',\n",
              "         'num_heads': 12,\n",
              "         'mlp_dim': 3072,\n",
              "         'dropout': 0.1},\n",
              "        'registered_name': 'Custom>TransformerBlock',\n",
              "        'build_config': {'input_shape': [None, 2, 768]},\n",
              "        'name': 'Transformer/encoderblock_6',\n",
              "        'inbound_nodes': [[['Transformer/encoderblock_5', 0, 0, {}]]]},\n",
              "       {'module': 'vit_keras.layers',\n",
              "        'class_name': 'TransformerBlock',\n",
              "        'config': {'name': 'Transformer/encoderblock_7',\n",
              "         'trainable': True,\n",
              "         'dtype': 'float32',\n",
              "         'num_heads': 12,\n",
              "         'mlp_dim': 3072,\n",
              "         'dropout': 0.1},\n",
              "        'registered_name': 'Custom>TransformerBlock',\n",
              "        'build_config': {'input_shape': [None, 2, 768]},\n",
              "        'name': 'Transformer/encoderblock_7',\n",
              "        'inbound_nodes': [[['Transformer/encoderblock_6', 0, 0, {}]]]},\n",
              "       {'module': 'vit_keras.layers',\n",
              "        'class_name': 'TransformerBlock',\n",
              "        'config': {'name': 'Transformer/encoderblock_8',\n",
              "         'trainable': True,\n",
              "         'dtype': 'float32',\n",
              "         'num_heads': 12,\n",
              "         'mlp_dim': 3072,\n",
              "         'dropout': 0.1},\n",
              "        'registered_name': 'Custom>TransformerBlock',\n",
              "        'build_config': {'input_shape': [None, 2, 768]},\n",
              "        'name': 'Transformer/encoderblock_8',\n",
              "        'inbound_nodes': [[['Transformer/encoderblock_7', 0, 0, {}]]]},\n",
              "       {'module': 'vit_keras.layers',\n",
              "        'class_name': 'TransformerBlock',\n",
              "        'config': {'name': 'Transformer/encoderblock_9',\n",
              "         'trainable': True,\n",
              "         'dtype': 'float32',\n",
              "         'num_heads': 12,\n",
              "         'mlp_dim': 3072,\n",
              "         'dropout': 0.1},\n",
              "        'registered_name': 'Custom>TransformerBlock',\n",
              "        'build_config': {'input_shape': [None, 2, 768]},\n",
              "        'name': 'Transformer/encoderblock_9',\n",
              "        'inbound_nodes': [[['Transformer/encoderblock_8', 0, 0, {}]]]},\n",
              "       {'module': 'vit_keras.layers',\n",
              "        'class_name': 'TransformerBlock',\n",
              "        'config': {'name': 'Transformer/encoderblock_10',\n",
              "         'trainable': True,\n",
              "         'dtype': 'float32',\n",
              "         'num_heads': 12,\n",
              "         'mlp_dim': 3072,\n",
              "         'dropout': 0.1},\n",
              "        'registered_name': 'Custom>TransformerBlock',\n",
              "        'build_config': {'input_shape': [None, 2, 768]},\n",
              "        'name': 'Transformer/encoderblock_10',\n",
              "        'inbound_nodes': [[['Transformer/encoderblock_9', 0, 0, {}]]]},\n",
              "       {'module': 'vit_keras.layers',\n",
              "        'class_name': 'TransformerBlock',\n",
              "        'config': {'name': 'Transformer/encoderblock_11',\n",
              "         'trainable': True,\n",
              "         'dtype': 'float32',\n",
              "         'num_heads': 12,\n",
              "         'mlp_dim': 3072,\n",
              "         'dropout': 0.1},\n",
              "        'registered_name': 'Custom>TransformerBlock',\n",
              "        'build_config': {'input_shape': [None, 2, 768]},\n",
              "        'name': 'Transformer/encoderblock_11',\n",
              "        'inbound_nodes': [[['Transformer/encoderblock_10', 0, 0, {}]]]},\n",
              "       {'module': 'keras.layers',\n",
              "        'class_name': 'LayerNormalization',\n",
              "        'config': {'name': 'Transformer/encoder_norm',\n",
              "         'trainable': True,\n",
              "         'dtype': 'float32',\n",
              "         'axis': [2],\n",
              "         'epsilon': 1e-06,\n",
              "         'center': True,\n",
              "         'scale': True,\n",
              "         'beta_initializer': {'module': 'keras.initializers',\n",
              "          'class_name': 'Zeros',\n",
              "          'config': {},\n",
              "          'registered_name': None},\n",
              "         'gamma_initializer': {'module': 'keras.initializers',\n",
              "          'class_name': 'Ones',\n",
              "          'config': {},\n",
              "          'registered_name': None},\n",
              "         'beta_regularizer': None,\n",
              "         'gamma_regularizer': None,\n",
              "         'beta_constraint': None,\n",
              "         'gamma_constraint': None},\n",
              "        'registered_name': None,\n",
              "        'build_config': {'input_shape': [None, 2, 768]},\n",
              "        'name': 'Transformer/encoder_norm',\n",
              "        'inbound_nodes': [[['Transformer/encoderblock_11', 0, 0, {}]]]},\n",
              "       {'module': 'keras.layers',\n",
              "        'class_name': 'Lambda',\n",
              "        'config': {'name': 'ExtractToken',\n",
              "         'trainable': True,\n",
              "         'dtype': 'float32',\n",
              "         'function': ['4wEAAAAAAAAAAAAAAAEAAAADAAAAUwAAAHMQAAAAfABkAGQAhQJkAWYCGQBTACkCTukAAAAAqQCp\\nAdoBdnICAAAAcgIAAAD6OC91c3IvbG9jYWwvbGliL3B5dGhvbjMuMTAvZGlzdC1wYWNrYWdlcy92\\naXRfa2VyYXMvdml0LnB52gg8bGFtYmRhPnoAAABzAgAAABAA\\n',\n",
              "          None,\n",
              "          None],\n",
              "         'function_type': 'lambda',\n",
              "         'module': 'vit_keras.vit',\n",
              "         'output_shape': None,\n",
              "         'output_shape_type': 'raw',\n",
              "         'output_shape_module': None,\n",
              "         'arguments': {}},\n",
              "        'registered_name': None,\n",
              "        'build_config': {'input_shape': [None, 2, 768]},\n",
              "        'name': 'ExtractToken',\n",
              "        'inbound_nodes': [[['Transformer/encoder_norm', 0, 0, {}]]]},\n",
              "       {'module': 'keras.layers',\n",
              "        'class_name': 'Dense',\n",
              "        'config': {'name': 'head',\n",
              "         'trainable': True,\n",
              "         'dtype': 'float32',\n",
              "         'units': 10,\n",
              "         'activation': 'softmax',\n",
              "         'use_bias': True,\n",
              "         'kernel_initializer': {'module': 'keras.initializers',\n",
              "          'class_name': 'GlorotUniform',\n",
              "          'config': {'seed': None},\n",
              "          'registered_name': None},\n",
              "         'bias_initializer': {'module': 'keras.initializers',\n",
              "          'class_name': 'Zeros',\n",
              "          'config': {},\n",
              "          'registered_name': None},\n",
              "         'kernel_regularizer': None,\n",
              "         'bias_regularizer': None,\n",
              "         'activity_regularizer': None,\n",
              "         'kernel_constraint': None,\n",
              "         'bias_constraint': None},\n",
              "        'registered_name': None,\n",
              "        'build_config': {'input_shape': [None, 768]},\n",
              "        'name': 'head',\n",
              "        'inbound_nodes': [[['ExtractToken', 0, 0, {}]]]}],\n",
              "      'input_layers': [['input_2', 0, 0]],\n",
              "      'output_layers': [['head', 0, 0]]},\n",
              "     'registered_name': 'Functional',\n",
              "     'build_config': {'input_shape': [None, 32, 32, 3]},\n",
              "     'name': 'vit-b32',\n",
              "     'inbound_nodes': [[['concatenate', 0, 0, {}]]]}],\n",
              "   'input_layers': [['input_1', 0, 0]],\n",
              "   'output_layers': [['vit-b32', 1, 0]]},\n",
              "  'keras_version': '2.13.1',\n",
              "  'backend': 'tensorflow'}}"
            ]
          },
          "metadata": {},
          "execution_count": 35
        }
      ]
    },
    {
      "cell_type": "code",
      "execution_count": 36,
      "metadata": {
        "id": "uYkHMtFXGiuN"
      },
      "outputs": [],
      "source": [
        "transformed_test_images= get_transformed_test_images(test_images)"
      ]
    },
    {
      "cell_type": "code",
      "execution_count": 38,
      "metadata": {
        "id": "cXuvne_5GiuO",
        "outputId": "551424a9-f348-4e5c-ea10-c6d6a07e727d",
        "colab": {
          "base_uri": "https://localhost:8080/"
        }
      },
      "outputs": [
        {
          "output_type": "stream",
          "name": "stdout",
          "text": [
            "{'model_name': 'ViT-32 pretrained', 'train_images_performance_metrics': {'accuracy': 0.9985555410385132, 'precision': 0.9985555555555555, 'recall': 0.9985555555555555, 'f1_score': 0.9985555555555555}, 'validation_images_performance_metrics': {'accuracy': 0.9848333597183228, 'precision': 0.9848333333333333, 'recall': 0.9848333333333333, 'f1_score': 0.9848333333333333}, 'test_images_performance_metrics': {'accuracy': 0.9851999878883362, 'precision': 0.9852, 'recall': 0.9852, 'f1_score': 0.9852}, 'transformed_test_images_performance_metrics': {'accuracy': 0.605400025844574, 'precision': 0.6054, 'recall': 0.6054, 'f1_score': 0.6054}}\n"
          ]
        }
      ],
      "source": [
        "# #saving model performance metrics\n",
        "# model_performance_metrics = {\n",
        "#     \"model_name\": \"ViT-32 pretrained\"\n",
        "# }\n",
        "# model_performance_metrics[\"train_images_performance_metrics\"] = get_model_performance_metrics(model,train_images, train_labels)\n",
        "# model_performance_metrics[\"validation_images_performance_metrics\"] = get_model_performance_metrics(model,val_images, val_labels)\n",
        "# model_performance_metrics[\"test_images_performance_metrics\"] = get_model_performance_metrics(model, test_images, test_labels)\n",
        "# model_performance_metrics[\"transformed_test_images_performance_metrics\"] = get_model_performance_metrics(model, transformed_test_images, test_labels)\n",
        "\n",
        "performance_path = os.path.join(\"/content/drive/My Drive/ML_research/experiments/\",'vit_32_fine_tuned_mnist', 'model_performance_metrics.json')\n",
        "dump_json(model_performance_metrics, performance_path)\n",
        "print(model_performance_metrics)"
      ]
    },
    {
      "cell_type": "code",
      "source": [],
      "metadata": {
        "id": "b1aTZVOgALJ1"
      },
      "execution_count": null,
      "outputs": []
    }
  ],
  "metadata": {
    "kernelspec": {
      "display_name": "Python 3",
      "name": "python3"
    },
    "language_info": {
      "codemirror_mode": {
        "name": "ipython",
        "version": 3
      },
      "file_extension": ".py",
      "mimetype": "text/x-python",
      "name": "python",
      "nbconvert_exporter": "python",
      "pygments_lexer": "ipython3",
      "version": "3.8.0"
    },
    "orig_nbformat": 4,
    "colab": {
      "provenance": [],
      "gpuType": "T4",
      "machine_shape": "hm",
      "include_colab_link": true
    },
    "accelerator": "GPU"
  },
  "nbformat": 4,
  "nbformat_minor": 0
}