{
 "cells": [
  {
   "cell_type": "code",
   "execution_count": 1,
   "metadata": {},
   "outputs": [
    {
     "name": "stderr",
     "output_type": "stream",
     "text": [
      "c:\\Users\\salah\\.conda\\envs\\vision-transformer\\lib\\site-packages\\tensorflow_addons\\utils\\tfa_eol_msg.py:23: UserWarning: \n",
      "\n",
      "TensorFlow Addons (TFA) has ended development and introduction of new features.\n",
      "TFA has entered a minimal maintenance and release mode until a planned end of life in May 2024.\n",
      "Please modify downstream libraries to take dependencies from other repositories in our TensorFlow community (e.g. Keras, Keras-CV, and Keras-NLP). \n",
      "\n",
      "For more information see: https://github.com/tensorflow/addons/issues/2807 \n",
      "\n",
      "  warnings.warn(\n"
     ]
    }
   ],
   "source": [
    "import numpy as np\n",
    "import matplotlib.pyplot as plt\n",
    "import cv2\n",
    "import random\n",
    "import tensorflow as tf\n",
    "from tensorflow.keras import layers\n",
    "from tensorflow_addons.metrics import F1Score\n",
    "from sklearn.metrics import precision_recall_fscore_support, accuracy_score\n",
    "from tensorflow.keras.preprocessing.image import img_to_array\n",
    "from keras.callbacks import EarlyStopping\n",
    "\n",
    "import logging\n",
    "import json\n",
    "import os\n",
    "import dill"
   ]
  },
  {
   "cell_type": "code",
   "execution_count": 56,
   "metadata": {},
   "outputs": [],
   "source": [
    "def dump_json(data, json_file_path):\n",
    "    with open(json_file_path, 'w') as json_file:\n",
    "        json.dump(data, json_file, indent=4)\n",
    "        \n",
    "def load_json(json_file_path):\n",
    "    with open(json_file_path, 'r') as json_file:\n",
    "        loaded_data = json.load(json_file)\n",
    "    return loaded_data"
   ]
  },
  {
   "cell_type": "code",
   "execution_count": 61,
   "metadata": {},
   "outputs": [],
   "source": [
    "def save_model(model, file_path): \n",
    "    dir_path = os.path.dirname(file_path)\n",
    "    with open( file_path, \"wb\") as file_obj:\n",
    "        dill.dump(obj, file_obj)\n",
    "        \n",
    "\n",
    "def load_model(file_path):\n",
    "    with open(file_path, \"rb\") as file_obj:\n",
    "        obj = dill.load(file_obj)\n",
    "    return obj"
   ]
  },
  {
   "cell_type": "code",
   "execution_count": 69,
   "metadata": {},
   "outputs": [],
   "source": [
    "def get_model_performance_metrics(model, images, labels):\n",
    "    # Evaluating the model\n",
    "    loss, accuracy = model.evaluate(images, labels)\n",
    "\n",
    "    # Getting Precision, Recall, and F1 Score\n",
    "    y_pred = model.predict(images)\n",
    "    y_pred_labels = np.argmax(y_pred, axis=1)\n",
    "\n",
    "    precision, recall, f1_score, _ = precision_recall_fscore_support(labels, y_pred_labels, average='macro')\n",
    "    performance = {\n",
    "        \"accuracy\": accuracy,\n",
    "        \"precision\": precision,\n",
    "        \"recall\": recall,\n",
    "        \"f1_score\": f1_score\n",
    "    }\n",
    "    return performance"
   ]
  },
  {
   "cell_type": "code",
   "execution_count": 53,
   "metadata": {},
   "outputs": [],
   "source": [
    "def save_model_logs(history,history_path):\n",
    "    # saving logs\n",
    "    logging.basicConfig(filename= history_path, level=logging.INFO)\n",
    "\n",
    "    # Log training history\n",
    "    for epoch, (loss, val_loss) in enumerate(zip(history.history['loss'], history.history['val_loss'])):\n",
    "        logging.info(f\"Epoch {epoch + 1}, Loss: {loss}, Val Loss {val_loss}\")\n"
   ]
  },
  {
   "cell_type": "code",
   "execution_count": 42,
   "metadata": {},
   "outputs": [],
   "source": [
    "def plot_log_function(history):\n",
    "    plt.figure(figsize=(10,10))\n",
    "    plt.plot(history.history['loss']) # tb\n",
    "    plt.plot(history.history['val_loss'])\n",
    "    plt.title('model loss')\n",
    "    plt.ylabel('loss')\n",
    "    plt.xlabel('epoch')\n",
    "    plt.legend(['train', 'validation'], loc='upper left')\n",
    "    plt.show()"
   ]
  },
  {
   "cell_type": "code",
   "execution_count": 26,
   "metadata": {},
   "outputs": [],
   "source": [
    "def random_transform(image):\n",
    "    choice = random.randint(0, 5)\n",
    "\n",
    "    rows, cols, _ = image.shape\n",
    "\n",
    "    if choice == 0: # Translation\n",
    "        tx, ty = random.randint(-20, 20), random.randint(-20, 20)\n",
    "        M = np.float32([[1, 0, tx], [0, 1, ty]])\n",
    "        return cv2.warpAffine(image, M, (cols, rows))\n",
    "\n",
    "    elif choice == 1: # Rotation\n",
    "        angle = random.randint(-30, 30)\n",
    "        M = cv2.getRotationMatrix2D((cols/2, rows/2), angle, 1)\n",
    "        return cv2.warpAffine(image, M, (cols, rows))\n",
    "\n",
    "    elif choice == 2: # Scaling\n",
    "        scale_factor = random.uniform(0.8, 1.2)\n",
    "        new_rows, new_cols = int(rows * scale_factor), int(cols * scale_factor)\n",
    "        return cv2.resize(image, (new_cols, new_rows))\n",
    "\n",
    "    elif choice == 3: # Skewing\n",
    "        pts1 = np.float32([[5,5],[20,5],[5,20]])\n",
    "        pt1 = 5+10*np.random.uniform()-10/2\n",
    "        pt2 = 20+10*np.random.uniform()-10/2\n",
    "        pts2 = np.float32([[pt1,5],[pt2,pt1],[5,pt2]])\n",
    "        M = cv2.getAffineTransform(pts1,pts2)\n",
    "        return cv2.warpAffine(image, M, (cols, rows))\n",
    "\n",
    "    elif choice == 4: # Perspective distortion\n",
    "        pts1 = np.float32([[5,5],[20,5],[5,20],[20,20]])\n",
    "        pts2 = np.float32([[0,0],[20,5],[5,20],[20,20]])\n",
    "        M = cv2.getPerspectiveTransform(pts1,pts2)\n",
    "        return cv2.warpPerspective(image, M, (cols, rows))\n",
    "\n",
    "    else: # Pincushion distortion\n",
    "        distortion = np.float32([1, 1, 0, 0])\n",
    "        camera_matrix = np.eye(3)\n",
    "        return cv2.undistort(image, camera_matrix, distortion)\n"
   ]
  },
  {
   "cell_type": "code",
   "execution_count": 54,
   "metadata": {},
   "outputs": [],
   "source": [
    "def get_transformed_test_images(test_images):\n",
    "    transformed_test_images = []\n",
    "    for img in test_images:\n",
    "        transformed_img = random_transform(img)\n",
    "        transformed_test_images.append(transformed_img)\n",
    "\n",
    "    # resizing transformed_test_images into (32, 32)\n",
    "    new_shape = (32, 32)\n",
    "    transformed_test_images = np.array([cv2.resize(img, new_shape).reshape(32, 32, 1) for img in transformed_test_images])\n",
    "\n",
    "    # Checking for shape consistency\n",
    "    \n",
    "    good_shape = test_images[0].shape\n",
    "    for i, img in enumerate(transformed_test_images):\n",
    "        if img.shape != good_shape:\n",
    "            print(f\"Inconsistent shape at index {i}: expected {good_shape}, but got {img.shape}\")\n",
    "    return transformed_test_images"
   ]
  },
  {
   "cell_type": "code",
   "execution_count": 5,
   "metadata": {},
   "outputs": [],
   "source": [
    "# Load MNIST dataset\n",
    "mnist = tf.keras.datasets.mnist\n",
    "(train_images, train_labels), (test_images, test_labels) = mnist.load_data()"
   ]
  },
  {
   "cell_type": "code",
   "execution_count": 6,
   "metadata": {},
   "outputs": [],
   "source": [
    "# Preprocess images\n",
    "new_shape = (32, 32)\n",
    "train_images = np.array([cv2.resize(img, new_shape) for img in train_images])\n",
    "test_images = np.array([cv2.resize(img, new_shape) for img in test_images])\n",
    "\n",
    "train_images, test_images = train_images / 255.0, test_images / 255.0\n",
    "train_images = train_images[..., tf.newaxis].astype(\"float32\")\n",
    "test_images = test_images[..., tf.newaxis].astype(\"float32\")"
   ]
  },
  {
   "cell_type": "code",
   "execution_count": 7,
   "metadata": {},
   "outputs": [
    {
     "name": "stdout",
     "output_type": "stream",
     "text": [
      "train_images size:  (45000, 32, 32, 1)  and val_images size:  (15000, 32, 32, 1)\n",
      "train_labels size:  (45000,)  and val_labels size:  (15000,)\n"
     ]
    }
   ],
   "source": [
    "# creating validation images val_images\n",
    "val_size = int(len(train_labels)*0.25)\n",
    "\n",
    "train_images , val_images= train_images[val_size:], train_images[:val_size]\n",
    "print(\"train_images size: \", train_images.shape, \" and val_images size: \", val_images.shape)\n",
    "\n",
    "train_labels , val_labels= train_labels[val_size:], train_labels[:val_size]\n",
    "print(\"train_labels size: \", train_labels.shape, \" and val_labels size: \", val_labels.shape)"
   ]
  },
  {
   "cell_type": "code",
   "execution_count": 8,
   "metadata": {},
   "outputs": [],
   "source": [
    "hyperparameters={\n",
    "    \"learning_rate\": 0.001,\n",
    "    \"batch_size\": 32,\n",
    "    \"epochs\": 12,\n",
    "    \"optimizer\":\"adam\",\n",
    "    'early_stopping_patience':3\n",
    "}\n",
    "# Build the ViT model\n",
    "input_shape = (*new_shape, 1)\n",
    "patch_size = 4\n",
    "num_heads = 2\n",
    "num_patches = (new_shape[0] // patch_size) * (new_shape[1] // patch_size)\n",
    "projection_dim = 32\n",
    "num_transformer_layers = 2\n",
    "mlp_head_units = [64, 32]\n",
    "\n",
    "inputs = tf.keras.layers.Input(shape=input_shape)\n",
    "x = tf.keras.layers.Conv2D(3, (3, 3), padding=\"same\")(inputs)  # Convert to 3 channels\n",
    "x = tf.keras.layers.Rescaling(1.0 / 255)(x)  # Rescale\n",
    "x = tf.keras.layers.Conv2D(32, (patch_size, patch_size), strides=patch_size)(x)\n",
    "x = tf.keras.layers.Reshape((num_patches, 32))(x)\n",
    "\n",
    "for _ in range(num_transformer_layers):\n",
    "    x1 = tf.keras.layers.LayerNormalization(epsilon=1e-6)(x)\n",
    "    attention_output = tf.keras.layers.MultiHeadAttention(\n",
    "        num_heads=num_heads, key_dim=projection_dim, dropout=0.1\n",
    "    )(x1, x1)\n",
    "    x2 = tf.keras.layers.Add()([attention_output, x])\n",
    "    x3 = tf.keras.layers.LayerNormalization(epsilon=1e-6)(x2)\n",
    "    x3 = tf.keras.layers.Conv1D(64, 2, padding=\"same\", activation=\"relu\")(x3)\n",
    "    x3 = tf.keras.layers.Dropout(0.1)(x3)\n",
    "    x3 = tf.keras.layers.Conv1D(32, 2, padding=\"same\")(x3)\n",
    "    x = tf.keras.layers.Add()([x3, x2])\n",
    "\n",
    "x = tf.keras.layers.GlobalAveragePooling1D()(x)\n",
    "for dim in mlp_head_units:\n",
    "    x = tf.keras.layers.Dense(dim, activation=\"relu\")(x)\n",
    "    x = tf.keras.layers.Dropout(0.1)(x)\n",
    "outputs = tf.keras.layers.Dense(10, activation=\"softmax\")(x)\n",
    "\n",
    "model = tf.keras.Model(inputs, outputs)\n",
    "model.compile(loss=\"sparse_categorical_crossentropy\", optimizer=\"adam\", metrics=[\"accuracy\"])"
   ]
  },
  {
   "cell_type": "code",
   "execution_count": 9,
   "metadata": {},
   "outputs": [
    {
     "name": "stdout",
     "output_type": "stream",
     "text": [
      "Epoch 1/12\n",
      "1407/1407 [==============================] - 162s 105ms/step - loss: 2.2240 - accuracy: 0.1409 - val_loss: 1.7792 - val_accuracy: 0.3103\n",
      "Epoch 2/12\n",
      "1407/1407 [==============================] - 154s 109ms/step - loss: 1.3065 - accuracy: 0.5023 - val_loss: 0.7931 - val_accuracy: 0.7301\n",
      "Epoch 3/12\n",
      "1407/1407 [==============================] - 137s 98ms/step - loss: 0.7211 - accuracy: 0.7648 - val_loss: 0.4742 - val_accuracy: 0.8470\n",
      "Epoch 4/12\n",
      "1407/1407 [==============================] - 139s 99ms/step - loss: 0.5199 - accuracy: 0.8358 - val_loss: 0.3947 - val_accuracy: 0.8720\n",
      "Epoch 5/12\n",
      "1407/1407 [==============================] - 135s 96ms/step - loss: 0.4365 - accuracy: 0.8648 - val_loss: 0.3114 - val_accuracy: 0.8998\n",
      "Epoch 6/12\n",
      "1407/1407 [==============================] - 128s 91ms/step - loss: 0.3841 - accuracy: 0.8802 - val_loss: 0.2708 - val_accuracy: 0.9127\n",
      "Epoch 7/12\n",
      "1407/1407 [==============================] - 124s 88ms/step - loss: 0.3477 - accuracy: 0.8925 - val_loss: 0.2446 - val_accuracy: 0.9248\n",
      "Epoch 8/12\n",
      "1407/1407 [==============================] - 125s 89ms/step - loss: 0.3142 - accuracy: 0.9022 - val_loss: 0.2336 - val_accuracy: 0.9293\n",
      "Epoch 9/12\n",
      "1407/1407 [==============================] - 123s 88ms/step - loss: 0.2953 - accuracy: 0.9081 - val_loss: 0.2239 - val_accuracy: 0.9307\n",
      "Epoch 10/12\n",
      "1407/1407 [==============================] - 125s 89ms/step - loss: 0.2724 - accuracy: 0.9152 - val_loss: 0.2037 - val_accuracy: 0.9387\n",
      "Epoch 11/12\n",
      "1407/1407 [==============================] - 124s 88ms/step - loss: 0.2582 - accuracy: 0.9196 - val_loss: 0.1899 - val_accuracy: 0.9418\n",
      "Epoch 12/12\n",
      "1407/1407 [==============================] - 128s 91ms/step - loss: 0.2480 - accuracy: 0.9233 - val_loss: 0.1866 - val_accuracy: 0.9435\n"
     ]
    }
   ],
   "source": [
    "# Define the early stopping callback\n",
    "early_stopping = EarlyStopping(monitor='val_loss', patience=3)\n",
    "\n",
    "# Fit the model with early stopping\n",
    "history = model.fit(train_images, train_labels, validation_data = (val_images, val_labels), verbose = 1, epochs=12, batch_size=32, callbacks=[early_stopping])"
   ]
  },
  {
   "cell_type": "code",
   "execution_count": 32,
   "metadata": {},
   "outputs": [],
   "source": [
    "#saving model\n",
    "path = os.path.join(os.path.dirname(os.getcwd()),'experiments','multi_headed_attention_mnist_dataset', 'models/model_weights.h5')\n",
    "dump_model(model, path)"
   ]
  },
  {
   "cell_type": "code",
   "execution_count": 41,
   "metadata": {},
   "outputs": [
    {
     "data": {
      "image/png": "[encoded data removed]",
      "text/plain": [
       "<Figure size 1000x1000 with 1 Axes>"
      ]
     },
     "metadata": {},
     "output_type": "display_data"
    }
   ],
   "source": [
    "#checking the performance on taining_data\n",
    "plot_log_function(history)"
   ]
  },
  {
   "cell_type": "code",
   "execution_count": 39,
   "metadata": {},
   "outputs": [],
   "source": [
    "history_path = os.path.join(os.path.dirname(os.getcwd()),'experiments','multi_headed_attention_mnist_dataset', 'history.log')\n",
    "save_model_logs(history,history_path)"
   ]
  },
  {
   "cell_type": "code",
   "execution_count": 63,
   "metadata": {},
   "outputs": [],
   "source": [
    "path = os.path.join(os.path.dirname(os.getcwd()),'experiments','multi_headed_attention_mnist_dataset', 'model.pkl')\n",
    "\n",
    "model = load_model(path)"
   ]
  },
  {
   "cell_type": "code",
   "execution_count": 66,
   "metadata": {},
   "outputs": [
    {
     "name": "stdout",
     "output_type": "stream",
     "text": [
      "{'model_name': 'Vision Transformer', 'hyperparameters': {'learning_rate': 0.001, 'batch_size': 32, 'epochs': 12, 'optimizer': 'adam', 'early_stopping_patience': 3}, 'model_architecture': {'class_name': 'Functional', 'config': {'name': 'model', 'trainable': True, 'layers': [{'module': 'keras.layers', 'class_name': 'InputLayer', 'config': {'batch_input_shape': [None, 32, 32, 1], 'dtype': 'float32', 'sparse': False, 'ragged': False, 'name': 'input_1'}, 'registered_name': None, 'name': 'input_1', 'inbound_nodes': []}, {'module': 'keras.layers', 'class_name': 'Conv2D', 'config': {'name': 'conv2d', 'trainable': True, 'dtype': 'float32', 'filters': 3, 'kernel_size': [3, 3], 'strides': [1, 1], 'padding': 'same', 'data_format': 'channels_last', 'dilation_rate': [1, 1], 'groups': 1, 'activation': 'linear', 'use_bias': True, 'kernel_initializer': {'module': 'keras.initializers', 'class_name': 'GlorotUniform', 'config': {'seed': None}, 'registered_name': None}, 'bias_initializer': {'module': 'keras.initializers', 'class_name': 'Zeros', 'config': {}, 'registered_name': None}, 'kernel_regularizer': None, 'bias_regularizer': None, 'activity_regularizer': None, 'kernel_constraint': None, 'bias_constraint': None}, 'registered_name': None, 'build_config': {'input_shape': [None, 32, 32, 1]}, 'name': 'conv2d', 'inbound_nodes': [[['input_1', 0, 0, {}]]]}, {'module': 'keras.layers', 'class_name': 'Rescaling', 'config': {'name': 'rescaling', 'trainable': True, 'dtype': 'float32', 'scale': 0.00392156862745098, 'offset': 0.0}, 'registered_name': None, 'build_config': {'input_shape': [None, 32, 32, 3]}, 'name': 'rescaling', 'inbound_nodes': [[['conv2d', 0, 0, {}]]]}, {'module': 'keras.layers', 'class_name': 'Conv2D', 'config': {'name': 'conv2d_1', 'trainable': True, 'dtype': 'float32', 'filters': 32, 'kernel_size': [4, 4], 'strides': [4, 4], 'padding': 'valid', 'data_format': 'channels_last', 'dilation_rate': [1, 1], 'groups': 1, 'activation': 'linear', 'use_bias': True, 'kernel_initializer': {'module': 'keras.initializers', 'class_name': 'GlorotUniform', 'config': {'seed': None}, 'registered_name': None}, 'bias_initializer': {'module': 'keras.initializers', 'class_name': 'Zeros', 'config': {}, 'registered_name': None}, 'kernel_regularizer': None, 'bias_regularizer': None, 'activity_regularizer': None, 'kernel_constraint': None, 'bias_constraint': None}, 'registered_name': None, 'build_config': {'input_shape': [None, 32, 32, 3]}, 'name': 'conv2d_1', 'inbound_nodes': [[['rescaling', 0, 0, {}]]]}, {'module': 'keras.layers', 'class_name': 'Reshape', 'config': {'name': 'reshape', 'trainable': True, 'dtype': 'float32', 'target_shape': [64, 32]}, 'registered_name': None, 'build_config': {'input_shape': [None, 8, 8, 32]}, 'name': 'reshape', 'inbound_nodes': [[['conv2d_1', 0, 0, {}]]]}, {'module': 'keras.layers', 'class_name': 'LayerNormalization', 'config': {'name': 'layer_normalization', 'trainable': True, 'dtype': 'float32', 'axis': [2], 'epsilon': 1e-06, 'center': True, 'scale': True, 'beta_initializer': {'module': 'keras.initializers', 'class_name': 'Zeros', 'config': {}, 'registered_name': None}, 'gamma_initializer': {'module': 'keras.initializers', 'class_name': 'Ones', 'config': {}, 'registered_name': None}, 'beta_regularizer': None, 'gamma_regularizer': None, 'beta_constraint': None, 'gamma_constraint': None}, 'registered_name': None, 'build_config': {'input_shape': [None, 64, 32]}, 'name': 'layer_normalization', 'inbound_nodes': [[['reshape', 0, 0, {}]]]}, {'module': 'keras.layers', 'class_name': 'MultiHeadAttention', 'config': {'name': 'multi_head_attention', 'trainable': True, 'dtype': 'float32', 'num_heads': 2, 'key_dim': 32, 'value_dim': 32, 'dropout': 0.1, 'use_bias': True, 'output_shape': None, 'attention_axes': [1], 'kernel_initializer': {'module': 'keras.initializers', 'class_name': 'GlorotUniform', 'config': {'seed': None}, 'registered_name': None}, 'bias_initializer': {'module': 'keras.initializers', 'class_name': 'Zeros', 'config': {}, 'registered_name': None}, 'kernel_regularizer': None, 'bias_regularizer': None, 'activity_regularizer': None, 'kernel_constraint': None, 'bias_constraint': None, 'query_shape': [None, 64, 32], 'key_shape': [None, 64, 32], 'value_shape': [None, 64, 32]}, 'registered_name': None, 'build_config': {'input_shape': [None, 64, 32]}, 'name': 'multi_head_attention', 'inbound_nodes': [[['layer_normalization', 0, 0, {'value': ['layer_normalization', 0, 0]}]]]}, {'module': 'keras.layers', 'class_name': 'Add', 'config': {'name': 'add', 'trainable': True, 'dtype': 'float32'}, 'registered_name': None, 'build_config': {'input_shape': [[None, 64, 32], [None, 64, 32]]}, 'name': 'add', 'inbound_nodes': [[['multi_head_attention', 0, 0, {}], ['reshape', 0, 0, {}]]]}, {'module': 'keras.layers', 'class_name': 'LayerNormalization', 'config': {'name': 'layer_normalization_1', 'trainable': True, 'dtype': 'float32', 'axis': [2], 'epsilon': 1e-06, 'center': True, 'scale': True, 'beta_initializer': {'module': 'keras.initializers', 'class_name': 'Zeros', 'config': {}, 'registered_name': None}, 'gamma_initializer': {'module': 'keras.initializers', 'class_name': 'Ones', 'config': {}, 'registered_name': None}, 'beta_regularizer': None, 'gamma_regularizer': None, 'beta_constraint': None, 'gamma_constraint': None}, 'registered_name': None, 'build_config': {'input_shape': [None, 64, 32]}, 'name': 'layer_normalization_1', 'inbound_nodes': [[['add', 0, 0, {}]]]}, {'module': 'keras.layers', 'class_name': 'Conv1D', 'config': {'name': 'conv1d', 'trainable': True, 'dtype': 'float32', 'filters': 64, 'kernel_size': [2], 'strides': [1], 'padding': 'same', 'data_format': 'channels_last', 'dilation_rate': [1], 'groups': 1, 'activation': 'relu', 'use_bias': True, 'kernel_initializer': {'module': 'keras.initializers', 'class_name': 'GlorotUniform', 'config': {'seed': None}, 'registered_name': None}, 'bias_initializer': {'module': 'keras.initializers', 'class_name': 'Zeros', 'config': {}, 'registered_name': None}, 'kernel_regularizer': None, 'bias_regularizer': None, 'activity_regularizer': None, 'kernel_constraint': None, 'bias_constraint': None}, 'registered_name': None, 'build_config': {'input_shape': [None, 64, 32]}, 'name': 'conv1d', 'inbound_nodes': [[['layer_normalization_1', 0, 0, {}]]]}, {'module': 'keras.layers', 'class_name': 'Dropout', 'config': {'name': 'dropout', 'trainable': True, 'dtype': 'float32', 'rate': 0.1, 'noise_shape': None, 'seed': None}, 'registered_name': None, 'build_config': {'input_shape': [None, 64, 64]}, 'name': 'dropout', 'inbound_nodes': [[['conv1d', 0, 0, {}]]]}, {'module': 'keras.layers', 'class_name': 'Conv1D', 'config': {'name': 'conv1d_1', 'trainable': True, 'dtype': 'float32', 'filters': 32, 'kernel_size': [2], 'strides': [1], 'padding': 'same', 'data_format': 'channels_last', 'dilation_rate': [1], 'groups': 1, 'activation': 'linear', 'use_bias': True, 'kernel_initializer': {'module': 'keras.initializers', 'class_name': 'GlorotUniform', 'config': {'seed': None}, 'registered_name': None}, 'bias_initializer': {'module': 'keras.initializers', 'class_name': 'Zeros', 'config': {}, 'registered_name': None}, 'kernel_regularizer': None, 'bias_regularizer': None, 'activity_regularizer': None, 'kernel_constraint': None, 'bias_constraint': None}, 'registered_name': None, 'build_config': {'input_shape': [None, 64, 64]}, 'name': 'conv1d_1', 'inbound_nodes': [[['dropout', 0, 0, {}]]]}, {'module': 'keras.layers', 'class_name': 'Add', 'config': {'name': 'add_1', 'trainable': True, 'dtype': 'float32'}, 'registered_name': None, 'build_config': {'input_shape': [[None, 64, 32], [None, 64, 32]]}, 'name': 'add_1', 'inbound_nodes': [[['conv1d_1', 0, 0, {}], ['add', 0, 0, {}]]]}, {'module': 'keras.layers', 'class_name': 'LayerNormalization', 'config': {'name': 'layer_normalization_2', 'trainable': True, 'dtype': 'float32', 'axis': [2], 'epsilon': 1e-06, 'center': True, 'scale': True, 'beta_initializer': {'module': 'keras.initializers', 'class_name': 'Zeros', 'config': {}, 'registered_name': None}, 'gamma_initializer': {'module': 'keras.initializers', 'class_name': 'Ones', 'config': {}, 'registered_name': None}, 'beta_regularizer': None, 'gamma_regularizer': None, 'beta_constraint': None, 'gamma_constraint': None}, 'registered_name': None, 'build_config': {'input_shape': [None, 64, 32]}, 'name': 'layer_normalization_2', 'inbound_nodes': [[['add_1', 0, 0, {}]]]}, {'module': 'keras.layers', 'class_name': 'MultiHeadAttention', 'config': {'name': 'multi_head_attention_1', 'trainable': True, 'dtype': 'float32', 'num_heads': 2, 'key_dim': 32, 'value_dim': 32, 'dropout': 0.1, 'use_bias': True, 'output_shape': None, 'attention_axes': [1], 'kernel_initializer': {'module': 'keras.initializers', 'class_name': 'GlorotUniform', 'config': {'seed': None}, 'registered_name': None}, 'bias_initializer': {'module': 'keras.initializers', 'class_name': 'Zeros', 'config': {}, 'registered_name': None}, 'kernel_regularizer': None, 'bias_regularizer': None, 'activity_regularizer': None, 'kernel_constraint': None, 'bias_constraint': None, 'query_shape': [None, 64, 32], 'key_shape': [None, 64, 32], 'value_shape': [None, 64, 32]}, 'registered_name': None, 'build_config': {'input_shape': [None, 64, 32]}, 'name': 'multi_head_attention_1', 'inbound_nodes': [[['layer_normalization_2', 0, 0, {'value': ['layer_normalization_2', 0, 0]}]]]}, {'module': 'keras.layers', 'class_name': 'Add', 'config': {'name': 'add_2', 'trainable': True, 'dtype': 'float32'}, 'registered_name': None, 'build_config': {'input_shape': [[None, 64, 32], [None, 64, 32]]}, 'name': 'add_2', 'inbound_nodes': [[['multi_head_attention_1', 0, 0, {}], ['add_1', 0, 0, {}]]]}, {'module': 'keras.layers', 'class_name': 'LayerNormalization', 'config': {'name': 'layer_normalization_3', 'trainable': True, 'dtype': 'float32', 'axis': [2], 'epsilon': 1e-06, 'center': True, 'scale': True, 'beta_initializer': {'module': 'keras.initializers', 'class_name': 'Zeros', 'config': {}, 'registered_name': None}, 'gamma_initializer': {'module': 'keras.initializers', 'class_name': 'Ones', 'config': {}, 'registered_name': None}, 'beta_regularizer': None, 'gamma_regularizer': None, 'beta_constraint': None, 'gamma_constraint': None}, 'registered_name': None, 'build_config': {'input_shape': [None, 64, 32]}, 'name': 'layer_normalization_3', 'inbound_nodes': [[['add_2', 0, 0, {}]]]}, {'module': 'keras.layers', 'class_name': 'Conv1D', 'config': {'name': 'conv1d_2', 'trainable': True, 'dtype': 'float32', 'filters': 64, 'kernel_size': [2], 'strides': [1], 'padding': 'same', 'data_format': 'channels_last', 'dilation_rate': [1], 'groups': 1, 'activation': 'relu', 'use_bias': True, 'kernel_initializer': {'module': 'keras.initializers', 'class_name': 'GlorotUniform', 'config': {'seed': None}, 'registered_name': None}, 'bias_initializer': {'module': 'keras.initializers', 'class_name': 'Zeros', 'config': {}, 'registered_name': None}, 'kernel_regularizer': None, 'bias_regularizer': None, 'activity_regularizer': None, 'kernel_constraint': None, 'bias_constraint': None}, 'registered_name': None, 'build_config': {'input_shape': [None, 64, 32]}, 'name': 'conv1d_2', 'inbound_nodes': [[['layer_normalization_3', 0, 0, {}]]]}, {'module': 'keras.layers', 'class_name': 'Dropout', 'config': {'name': 'dropout_1', 'trainable': True, 'dtype': 'float32', 'rate': 0.1, 'noise_shape': None, 'seed': None}, 'registered_name': None, 'build_config': {'input_shape': [None, 64, 64]}, 'name': 'dropout_1', 'inbound_nodes': [[['conv1d_2', 0, 0, {}]]]}, {'module': 'keras.layers', 'class_name': 'Conv1D', 'config': {'name': 'conv1d_3', 'trainable': True, 'dtype': 'float32', 'filters': 32, 'kernel_size': [2], 'strides': [1], 'padding': 'same', 'data_format': 'channels_last', 'dilation_rate': [1], 'groups': 1, 'activation': 'linear', 'use_bias': True, 'kernel_initializer': {'module': 'keras.initializers', 'class_name': 'GlorotUniform', 'config': {'seed': None}, 'registered_name': None}, 'bias_initializer': {'module': 'keras.initializers', 'class_name': 'Zeros', 'config': {}, 'registered_name': None}, 'kernel_regularizer': None, 'bias_regularizer': None, 'activity_regularizer': None, 'kernel_constraint': None, 'bias_constraint': None}, 'registered_name': None, 'build_config': {'input_shape': [None, 64, 64]}, 'name': 'conv1d_3', 'inbound_nodes': [[['dropout_1', 0, 0, {}]]]}, {'module': 'keras.layers', 'class_name': 'Add', 'config': {'name': 'add_3', 'trainable': True, 'dtype': 'float32'}, 'registered_name': None, 'build_config': {'input_shape': [[None, 64, 32], [None, 64, 32]]}, 'name': 'add_3', 'inbound_nodes': [[['conv1d_3', 0, 0, {}], ['add_2', 0, 0, {}]]]}, {'module': 'keras.layers', 'class_name': 'GlobalAveragePooling1D', 'config': {'name': 'global_average_pooling1d', 'trainable': True, 'dtype': 'float32', 'data_format': 'channels_last', 'keepdims': False}, 'registered_name': None, 'build_config': {'input_shape': [None, 64, 32]}, 'name': 'global_average_pooling1d', 'inbound_nodes': [[['add_3', 0, 0, {}]]]}, {'module': 'keras.layers', 'class_name': 'Dense', 'config': {'name': 'dense', 'trainable': True, 'dtype': 'float32', 'units': 64, 'activation': 'relu', 'use_bias': True, 'kernel_initializer': {'module': 'keras.initializers', 'class_name': 'GlorotUniform', 'config': {'seed': None}, 'registered_name': None}, 'bias_initializer': {'module': 'keras.initializers', 'class_name': 'Zeros', 'config': {}, 'registered_name': None}, 'kernel_regularizer': None, 'bias_regularizer': None, 'activity_regularizer': None, 'kernel_constraint': None, 'bias_constraint': None}, 'registered_name': None, 'build_config': {'input_shape': [None, 32]}, 'name': 'dense', 'inbound_nodes': [[['global_average_pooling1d', 0, 0, {}]]]}, {'module': 'keras.layers', 'class_name': 'Dropout', 'config': {'name': 'dropout_2', 'trainable': True, 'dtype': 'float32', 'rate': 0.1, 'noise_shape': None, 'seed': None}, 'registered_name': None, 'build_config': {'input_shape': [None, 64]}, 'name': 'dropout_2', 'inbound_nodes': [[['dense', 0, 0, {}]]]}, {'module': 'keras.layers', 'class_name': 'Dense', 'config': {'name': 'dense_1', 'trainable': True, 'dtype': 'float32', 'units': 32, 'activation': 'relu', 'use_bias': True, 'kernel_initializer': {'module': 'keras.initializers', 'class_name': 'GlorotUniform', 'config': {'seed': None}, 'registered_name': None}, 'bias_initializer': {'module': 'keras.initializers', 'class_name': 'Zeros', 'config': {}, 'registered_name': None}, 'kernel_regularizer': None, 'bias_regularizer': None, 'activity_regularizer': None, 'kernel_constraint': None, 'bias_constraint': None}, 'registered_name': None, 'build_config': {'input_shape': [None, 64]}, 'name': 'dense_1', 'inbound_nodes': [[['dropout_2', 0, 0, {}]]]}, {'module': 'keras.layers', 'class_name': 'Dropout', 'config': {'name': 'dropout_3', 'trainable': True, 'dtype': 'float32', 'rate': 0.1, 'noise_shape': None, 'seed': None}, 'registered_name': None, 'build_config': {'input_shape': [None, 32]}, 'name': 'dropout_3', 'inbound_nodes': [[['dense_1', 0, 0, {}]]]}, {'module': 'keras.layers', 'class_name': 'Dense', 'config': {'name': 'dense_2', 'trainable': True, 'dtype': 'float32', 'units': 10, 'activation': 'softmax', 'use_bias': True, 'kernel_initializer': {'module': 'keras.initializers', 'class_name': 'GlorotUniform', 'config': {'seed': None}, 'registered_name': None}, 'bias_initializer': {'module': 'keras.initializers', 'class_name': 'Zeros', 'config': {}, 'registered_name': None}, 'kernel_regularizer': None, 'bias_regularizer': None, 'activity_regularizer': None, 'kernel_constraint': None, 'bias_constraint': None}, 'registered_name': None, 'build_config': {'input_shape': [None, 32]}, 'name': 'dense_2', 'inbound_nodes': [[['dropout_3', 0, 0, {}]]]}], 'input_layers': [['input_1', 0, 0]], 'output_layers': [['dense_2', 0, 0]]}, 'keras_version': '2.13.1', 'backend': 'tensorflow'}}\n"
     ]
    }
   ],
   "source": [
    "# saving model architecture and hypermarameters\n",
    "model_info = {\n",
    "    \"model_name\": \"Vision Transformer\"\n",
    "}\n",
    "model_info[\"hyperparameters\"] = hyperparameters\n",
    "model_info[\"model_architecture\"] = model.to_json()\n",
    "model_info[\"model_architecture\"]  = json.loads(model_info[\"model_architecture\"] )\n",
    "\n",
    "path = os.path.join(os.path.dirname(os.getcwd()),'experiments','multi_headed_attention_mnist_dataset', 'mode_architecture.json')\n",
    "dump_json(model_info, path )\n",
    "print(model_info)"
   ]
  },
  {
   "cell_type": "code",
   "execution_count": 29,
   "metadata": {},
   "outputs": [],
   "source": [
    "transformed_test_images= get_transformed_test_images(test_images)"
   ]
  },
  {
   "cell_type": "code",
   "execution_count": 70,
   "metadata": {},
   "outputs": [
    {
     "name": "stdout",
     "output_type": "stream",
     "text": [
      "1407/1407 [==============================] - 47s 34ms/step - loss: 0.1723 - accuracy: 0.9430\n",
      "1407/1407 [==============================] - 39s 28ms/step\n",
      "469/469 [==============================] - 15s 32ms/step - loss: 0.1866 - accuracy: 0.9435\n",
      "469/469 [==============================] - 14s 31ms/step\n",
      "313/313 [==============================] - 10s 32ms/step - loss: 0.1858 - accuracy: 0.9429\n",
      "313/313 [==============================] - 9s 29ms/step\n",
      "313/313 [==============================] - 9s 29ms/step - loss: 3.3355 - accuracy: 0.6694\n",
      "313/313 [==============================] - 9s 29ms/step\n",
      "{'model_name': 'Vision Transformer', 'train_images_performance_metrics': {'accuracy': 0.9430444240570068, 'precision': 0.9436927070787323, 'recall': 0.9420877265489679, 'f1_score': 0.9422721891708056}, 'validation_images_performance_metrics': {'accuracy': 0.9435333609580994, 'precision': 0.9438024712517473, 'recall': 0.9425949696819353, 'f1_score': 0.9427020690781334}, 'test_images_performance_metrics': {'accuracy': 0.9429000020027161, 'precision': 0.9440102443234146, 'recall': 0.9418122581187565, 'f1_score': 0.9421103523277411}, 'transformed_test_images_performance_metrics': {'accuracy': 0.6693999767303467, 'precision': 0.7721902514267633, 'recall': 0.6645088858253737, 'f1_score': 0.6914443995671273}}\n"
     ]
    }
   ],
   "source": [
    "#saving model performance metrics\n",
    "model_performance_metrics = {\n",
    "    \"model_name\": \"Vision Transformer\"\n",
    "}\n",
    "model_performance_metrics[\"train_images_performance_metrics\"] = get_model_performance_metrics(model,train_images, train_labels)\n",
    "model_performance_metrics[\"validation_images_performance_metrics\"] = get_model_performance_metrics(model,val_images, val_labels)\n",
    "model_performance_metrics[\"test_images_performance_metrics\"] = get_model_performance_metrics(model, test_images, test_labels)\n",
    "model_performance_metrics[\"transformed_test_images_performance_metrics\"] = get_model_performance_metrics(model, transformed_test_images, test_labels)\n",
    "\n",
    "\n",
    "path = os.path.join(os.path.dirname(os.getcwd()),'experiments','multi_headed_attention_mnist_dataset', 'mode_performance_metrics.json')\n",
    "dump_json(model_performance_metrics, path)\n",
    "print(model_performance_metrics)"
   ]
  }
 ],
 "metadata": {
  "kernelspec": {
   "display_name": "Python 3",
   "language": "python",
   "name": "python3"
  },
  "language_info": {
   "codemirror_mode": {
    "name": "ipython",
    "version": 3
   },
   "file_extension": ".py",
   "mimetype": "text/x-python",
   "name": "python",
   "nbconvert_exporter": "python",
   "pygments_lexer": "ipython3",
   "version": "3.8.0"
  },
  "orig_nbformat": 4
 },
 "nbformat": 4,
 "nbformat_minor": 2
}
